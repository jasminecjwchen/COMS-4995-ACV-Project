{
 "cells": [
  {
   "cell_type": "markdown",
   "metadata": {},
   "source": [
    "# Undersample File Processor"
   ]
  },
  {
   "cell_type": "markdown",
   "metadata": {},
   "source": [
    "Currently, there are some levels of class imbalance between live & spoof classes. Given the large file count and sizes of both classes, we have chosen undersampling as the method to address class imbalance between these two classes.\n",
    "\n",
    "This notebook will randomly undersample from the spoof class such that the number of images in spoof is the same as the number of images in live. The selected images will be placed into a folder called `spoof_undersampled`."
   ]
  },
  {
   "cell_type": "code",
   "execution_count": 5,
   "metadata": {},
   "outputs": [],
   "source": [
    "import random\n",
    "from glob import glob as g\n",
    "import os\n",
    "from os import walk\n",
    "import shutil"
   ]
  },
  {
   "cell_type": "code",
   "execution_count": 7,
   "metadata": {},
   "outputs": [],
   "source": [
    "base_path = \"/Users/jasminecjwchen/Documents/GitHub/COMS-4995-ACV-Project/preprocessed_data/\"\n",
    "\n",
    "live_path = os.path.join(base_path, \"live\")\n",
    "live_photo_count = len(os.listdir(live_path))\n",
    "\n",
    "spoof_path = os.path.join(base_path, \"spoof\")\n",
    "spoof_files = os.listdir(spoof_path)"
   ]
  },
  {
   "cell_type": "code",
   "execution_count": 9,
   "metadata": {},
   "outputs": [],
   "source": [
    "# randomly copy subset of spoot image into new folder\n",
    "# same count as live photo to ensure balance between classes\n",
    "random.seed(6)\n",
    "spoof_choices = random.sample(spoof_files, live_photo_count)"
   ]
  },
  {
   "cell_type": "code",
   "execution_count": 12,
   "metadata": {},
   "outputs": [],
   "source": [
    "# copy selected images into the spoof_undersampled folder\n",
    "spoof_new_path = os.path.join(base_path, \"spoof_undersampled\")\n",
    "for choice in spoof_choices:\n",
    "    file_old_path = os.path.join(spoof_path, choice)\n",
    "    file_new_path = os.path.join(spoof_new_path, choice)\n",
    "    if not os.path.exists(file_new_path):\n",
    "        shutil.copy2(file_old_path, file_new_path)"
   ]
  },
  {
   "cell_type": "code",
   "execution_count": null,
   "metadata": {},
   "outputs": [],
   "source": []
  }
 ],
 "metadata": {
  "kernelspec": {
   "display_name": "Python 3",
   "language": "python",
   "name": "python3"
  },
  "language_info": {
   "codemirror_mode": {
    "name": "ipython",
    "version": 3
   },
   "file_extension": ".py",
   "mimetype": "text/x-python",
   "name": "python",
   "nbconvert_exporter": "python",
   "pygments_lexer": "ipython3",
   "version": "3.9.6"
  }
 },
 "nbformat": 4,
 "nbformat_minor": 2
}
