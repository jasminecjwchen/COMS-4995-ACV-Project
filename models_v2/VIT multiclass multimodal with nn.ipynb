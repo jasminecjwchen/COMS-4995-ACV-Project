{
 "cells": [
  {
   "cell_type": "markdown",
   "id": "30a2c911-3409-4ed1-aa61-f0307f6ca5a5",
   "metadata": {},
   "source": [
    "# Facial Anti-Spoofing using Deep Neural Network Approaches"
   ]
  },
  {
   "cell_type": "code",
   "execution_count": 1,
   "id": "fec8e3d4",
   "metadata": {},
   "outputs": [
    {
     "name": "stderr",
     "output_type": "stream",
     "text": [
      "/Users/jasminecjwchen/Library/Python/3.9/lib/python/site-packages/urllib3/__init__.py:35: NotOpenSSLWarning: urllib3 v2 only supports OpenSSL 1.1.1+, currently the 'ssl' module is compiled with 'LibreSSL 2.8.3'. See: https://github.com/urllib3/urllib3/issues/3020\n",
      "  warnings.warn(\n",
      "/Users/jasminecjwchen/Library/Python/3.9/lib/python/site-packages/tqdm/auto.py:21: TqdmWarning: IProgress not found. Please update jupyter and ipywidgets. See https://ipywidgets.readthedocs.io/en/stable/user_install.html\n",
      "  from .autonotebook import tqdm as notebook_tqdm\n"
     ]
    }
   ],
   "source": [
    "import os\n",
    "import shutil\n",
    "import evaluate\n",
    "import numpy as np\n",
    "import time\n",
    "import copy\n",
    "import json\n",
    "from PIL import Image"
   ]
  },
  {
   "cell_type": "code",
   "execution_count": 2,
   "id": "0e5ed262",
   "metadata": {},
   "outputs": [],
   "source": [
    "from sklearn.model_selection import train_test_split\n",
    "from sklearn.metrics import accuracy_score, precision_score, recall_score, f1_score"
   ]
  },
  {
   "cell_type": "code",
   "execution_count": 3,
   "id": "ceead877-7fc0-4e9e-8d9c-ddb23fc46791",
   "metadata": {},
   "outputs": [],
   "source": [
    "import torch\n",
    "import torch.nn as nn\n",
    "import torch.optim as optim\n",
    "import torch.nn.functional as F\n",
    "from torchvision import datasets, transforms\n",
    "from torch.utils.data import Dataset, DataLoader, random_split"
   ]
  },
  {
   "cell_type": "code",
   "execution_count": 4,
   "id": "a0602f60",
   "metadata": {},
   "outputs": [],
   "source": [
    "from transformers import ViTConfig, ViTModel, ViTImageProcessor, ViTForImageClassification\n",
    "from transformers import AutoImageProcessor\n",
    "from transformers import TrainingArguments, Trainer"
   ]
  },
  {
   "cell_type": "markdown",
   "id": "df5dc561-f916-4ea2-9723-ebe8f9aa1a04",
   "metadata": {},
   "source": [
    "## Preparing Data Loaders"
   ]
  },
  {
   "cell_type": "code",
   "execution_count": 5,
   "id": "480028de",
   "metadata": {},
   "outputs": [],
   "source": [
    "class SpoofDataset(Dataset):\n",
    "    def __init__(self, data_dir, label_file, transform=None):\n",
    "        \"\"\"\n",
    "        Args:\n",
    "            data_dir: Directory with all the images, separated into 'live' and 'spoof' subdirectories.\n",
    "            label_file: Path to JSON file with labels, where label 0 indicates 'live' and others indicate 'spoof'.\n",
    "            transform: Optional transform.\n",
    "        \"\"\"\n",
    "        self.data_dir = data_dir\n",
    "        self.transform = transform\n",
    "        with open(label_file, 'r') as f:\n",
    "            self.labels = json.load(f)\n",
    "\n",
    "        self.img_paths = []\n",
    "        self.img_labels = []\n",
    "        self.features_list = []\n",
    "        for img_name, features in self.labels.items():\n",
    "            # Correct the file extension from .png to .jpg\n",
    "            #img_name = img_name.replace('.png', '.jpg')\n",
    "            \n",
    "            # final item in feature is for live vs spoof\n",
    "            label = features[-1]\n",
    "            subfolder = 'live' if label == 0 else 'spoof'\n",
    "            full_path = os.path.join(self.data_dir, subfolder, img_name)\n",
    "            \n",
    "            if os.path.exists(full_path):\n",
    "                self.img_paths.append(full_path)\n",
    "                self.img_labels.append(label)\n",
    "                self.features_list.append(features[:-1])\n",
    "\n",
    "    def __len__(self):\n",
    "        return len(self.img_paths)\n",
    "\n",
    "    def __getitem__(self, idx):\n",
    "        img_path = self.img_paths[idx]\n",
    "        image = Image.open(img_path).convert('RGB')\n",
    "\n",
    "        if self.transform:\n",
    "            image = self.transform(image)\n",
    "            \n",
    "        label = self.img_labels[idx]\n",
    "        features = self.features_list[idx]\n",
    "\n",
    "        return image, label, features\n"
   ]
  },
  {
   "cell_type": "code",
   "execution_count": 6,
   "id": "a0790a3d",
   "metadata": {},
   "outputs": [],
   "source": [
    "data_transforms = transforms.Compose([\n",
    "    transforms.ToTensor(),\n",
    "    transforms.Normalize(mean=[0.485, 0.456, 0.406], std=[0.229, 0.224, 0.225]),\n",
    "    transforms.ToPILImage()\n",
    "])"
   ]
  },
  {
   "cell_type": "code",
   "execution_count": 7,
   "id": "5c909173",
   "metadata": {},
   "outputs": [],
   "source": [
    "data_dir = \"/Users/jasminecjwchen/Documents/GitHub/COMS-4995-ACV-Project/preprocessed_data\"\n",
    "test_dir = \"/Users/jasminecjwchen/Documents/GitHub/COMS-4995-ACV-Project/unseen_data\"\n",
    "output_dir = '/Users/jasminecjwchen/Documents/GitHub/COMS-4995-ACV-Project/split_data'"
   ]
  },
  {
   "cell_type": "code",
   "execution_count": 8,
   "id": "eae3f067",
   "metadata": {},
   "outputs": [],
   "source": [
    "label_file = \"/Users/jasminecjwchen/Documents/GitHub/COMS-4995-ACV-Project/preprocessing/test_labels v2.json\"\n",
    "dataset = SpoofDataset(data_dir, label_file, data_transforms)"
   ]
  },
  {
   "cell_type": "code",
   "execution_count": 9,
   "id": "33222195",
   "metadata": {},
   "outputs": [],
   "source": [
    "# splitting\n",
    "num_train = int(len(dataset) * 0.8)\n",
    "num_val = len(dataset) - num_train\n",
    "train_dataset, val_dataset = random_split(dataset, [num_train, num_val])"
   ]
  },
  {
   "cell_type": "code",
   "execution_count": 10,
   "id": "ad4fdd3d",
   "metadata": {},
   "outputs": [],
   "source": [
    "def collate_fn(batch):\n",
    "    # Filter failed images first\n",
    "    batch = list(filter(lambda x: x is not None, batch))\n",
    "\n",
    "    images = [sample[0] for sample in batch]\n",
    "    labels = torch.LongTensor([sample[1] for sample in batch])\n",
    "    features = torch.stack([torch.Tensor(sample[2]) for sample in batch])\n",
    "    \n",
    "    return images, labels, features"
   ]
  },
  {
   "cell_type": "code",
   "execution_count": 11,
   "id": "5765e4a1",
   "metadata": {},
   "outputs": [],
   "source": [
    "dataloaders = {\n",
    "    'train': DataLoader(train_dataset, batch_size=32, shuffle=True, pin_memory=True, collate_fn=collate_fn),\n",
    "    'val': DataLoader(val_dataset, batch_size=32, shuffle=False, pin_memory=True, collate_fn=collate_fn)\n",
    "}"
   ]
  },
  {
   "cell_type": "code",
   "execution_count": 12,
   "id": "73e6626c",
   "metadata": {},
   "outputs": [],
   "source": [
    "dataset_sizes = {\n",
    "    \"train\": len(train_dataset),\n",
    "    \"val\": len(val_dataset)\n",
    "}"
   ]
  },
  {
   "cell_type": "code",
   "execution_count": 13,
   "id": "e4cd89cd",
   "metadata": {},
   "outputs": [
    {
     "name": "stdout",
     "output_type": "stream",
     "text": [
      "{'train': 31876, 'val': 7970}\n"
     ]
    }
   ],
   "source": [
    "print(dataset_sizes)"
   ]
  },
  {
   "cell_type": "markdown",
   "id": "0db7c302",
   "metadata": {},
   "source": [
    "## VIT"
   ]
  },
  {
   "cell_type": "code",
   "execution_count": 14,
   "id": "c687e918",
   "metadata": {},
   "outputs": [],
   "source": [
    "class VITConcatNeuralNetworkModel(nn.Module):\n",
    "    '''\n",
    "        width should either be an integer (all layers would have same width) or a list that is of length \"depth\"\n",
    "        vit config params are passed through kwargs\n",
    "    '''\n",
    "\n",
    "    def __init__(self, freeze_vit = True, depth = 8, width = 8, **kwargs):\n",
    "        super().__init__()\n",
    "        \n",
    "        self.tokenizer = ViTImageProcessor()\n",
    "        \n",
    "        #vit_config = ViTConfig(**kwargs)\n",
    "        self.model = ViTModel.from_pretrained(\"google/vit-base-patch16-224-in21k\")\n",
    "        \n",
    "        first_layer_width = width if isinstance(width, int) else width[0]\n",
    "        nn_modules = [nn.Linear(151336, first_layer_width)]\n",
    "        \n",
    "        for i in range(1, depth):\n",
    "            if isinstance(width, int):\n",
    "                nn_modules.append(nn.Linear(width, width))\n",
    "            else:\n",
    "                nn_modules.append(nn.Linear(width[i - 1], width[i]))\n",
    "        \n",
    "        logistic = nn.Linear(width, 5) if isinstance(width, int) else width[-1]\n",
    "        nn_modules.append(logistic)\n",
    "        self.sequential = nn.Sequential(nn_modules)\n",
    "        \n",
    "        if freeze_vit: \n",
    "            for param in self.model.parameters():\n",
    "                param.requires_grad = False\n",
    "    \n",
    "    def forward(self, image, features):\n",
    "        encoded_image = self.tokenizer(image, return_tensors = \"pt\")\n",
    "        model_output = self.model(**encoded_image)\n",
    "        \n",
    "        flattened_output = model_output.last_hidden_state.flatten(start_dim = 1)\n",
    "        #print(flattened_output.shape)\n",
    "        \n",
    "        # concat 40 features with flattened image\n",
    "        #print(features.shape, flattened_output.shape)\n",
    "        concated = torch.cat((features, flattened_output), 1)\n",
    "        \n",
    "        return self.sequential(concated)"
   ]
  },
  {
   "cell_type": "markdown",
   "id": "807d7dd6-4043-40ae-85d5-9743a46f276f",
   "metadata": {},
   "source": [
    "## Training"
   ]
  },
  {
   "cell_type": "code",
   "execution_count": 15,
   "id": "86b94921",
   "metadata": {},
   "outputs": [
    {
     "name": "stdout",
     "output_type": "stream",
     "text": [
      "Using cpu\n"
     ]
    }
   ],
   "source": [
    "device = torch.device(\"cuda\" if torch.cuda.is_available() else \"cpu\")\n",
    "print(f\"Using {device}\")\n",
    "use_gpu = (device != \"cpu\")"
   ]
  },
  {
   "cell_type": "code",
   "execution_count": 16,
   "id": "59d6e78d",
   "metadata": {},
   "outputs": [],
   "source": [
    "def train_model(model, optimizer, criterion = None, scheduler = None, dataloaders = dataloaders, num_epochs = 1, patience = 10, output_filename = \"best_model.pth\"):    \n",
    "    since = time.time()\n",
    "    \n",
    "    # Initialize best metrics tracking\n",
    "    best_metrics = {\n",
    "        'epoch': 0,\n",
    "        'val_loss': float('inf'),\n",
    "        'val_accuracy': 0,\n",
    "        'val_precision': 0,\n",
    "        'val_recall': 0,\n",
    "        'val_f1': 0,\n",
    "    }\n",
    "    \n",
    "    best_model_wts = copy.deepcopy(model.state_dict())\n",
    "    \n",
    "    if not criterion:\n",
    "        criterion = nn.CrossEntropyLoss()\n",
    "    \n",
    "    # use patience for early stopping when validation isnt getting better\n",
    "    patience_left = patience\n",
    "\n",
    "    for epoch in range(num_epochs):\n",
    "        epoch_start_time = time.time()\n",
    "        \n",
    "        for phase in [\"train\", \"val\"]:\n",
    "            if phase == \"train\":\n",
    "                model.train()\n",
    "            else:\n",
    "                model.eval()\n",
    "            \n",
    "            running_loss = 0.0\n",
    "            all_preds = []\n",
    "            all_labels = []\n",
    "            \n",
    "            for image, labels, features in dataloaders[phase]:\n",
    "                if use_gpu:\n",
    "                    labels = labels.to(device)\n",
    "                \n",
    "                optimizer.zero_grad()\n",
    "                \n",
    "                # forward\n",
    "                with torch.set_grad_enabled(phase == \"train\"):\n",
    "                    outputs = model(image, features)\n",
    "                    preds = torch.argmax(outputs, 1)\n",
    "                    loss = criterion(outputs, labels)\n",
    "                    \n",
    "                    if phase == \"train\":\n",
    "                        loss.backward()\n",
    "                        optimizer.step()\n",
    "                \n",
    "                running_loss += loss.item() * len(image)\n",
    "                #print(running_loss, running_corrects)\n",
    "                all_preds.extend(preds.cpu().numpy())\n",
    "                all_labels.extend(labels.cpu().numpy())\n",
    "            \n",
    "            epoch_loss = running_loss / dataset_sizes[phase]\n",
    "            epoch_accuracy = accuracy_score(all_labels, all_preds)\n",
    "            epoch_precision = precision_score(all_labels, all_preds, zero_division=0, average='macro')\n",
    "            epoch_recall = recall_score(all_labels, all_preds, zero_division=0, average='macro')\n",
    "            epoch_f1 = f1_score(all_labels, all_preds, zero_division=0, average='macro')\n",
    "\n",
    "            epoch_time = time.time() - epoch_start_time\n",
    "\n",
    "            # deep copy the model if it's best so far\n",
    "            if phase == \"val\" and (epoch_loss < best_metrics['val_loss'] or epoch_recall > best_metrics['val_recall']):\n",
    "                best_metrics.update({\n",
    "                    'epoch': epoch + 1,\n",
    "                    'val_loss': epoch_loss,\n",
    "                    'val_accuracy': epoch_accuracy,\n",
    "                    'val_precision': epoch_precision,\n",
    "                    'val_recall': epoch_recall,\n",
    "                    'val_f1': epoch_f1,\n",
    "                })\n",
    "                \n",
    "                best_model_wts = copy.deepcopy(model.state_dict())\n",
    "                torch.save(model.state_dict(), output_filename)\n",
    "                patience_left = patience\n",
    "            elif phase == \"val\":\n",
    "                patience_left -= 1\n",
    "            \n",
    "            print(f'Epoch {epoch}/{num_epochs - 1} {phase} complete in {epoch_time:.4f} seconds. {phase} loss: {epoch_loss:.4f} recall: {epoch_recall:.4f}. Patience left: {patience_left}')\n",
    "            \n",
    "        if patience_left <= 0:\n",
    "            print(\"Ran out of patience. Stopping early\")\n",
    "            break\n",
    "        \n",
    "        if scheduler:\n",
    "            scheduler.step()\n",
    "    \n",
    "    time_elapsed = time.time() - since\n",
    "    print(f'Training complete in {time_elapsed // 60:.0f}m {time_elapsed % 60:.0f}s')\n",
    "    print(f\"Best Metrics at Epoch {best_metrics['epoch']}:\")\n",
    "    for metric, value in best_metrics.items():\n",
    "        if metric != 'epoch':\n",
    "            print(f\"{metric.capitalize()}: {value:.4f}\")\n",
    "\n",
    "    # load best model weights\n",
    "    model.load_state_dict(best_model_wts)\n",
    "    return model"
   ]
  },
  {
   "cell_type": "code",
   "execution_count": 17,
   "id": "75a190bb",
   "metadata": {},
   "outputs": [
    {
     "ename": "TypeError",
     "evalue": "list is not a Module subclass",
     "output_type": "error",
     "traceback": [
      "\u001b[0;31m---------------------------------------------------------------------------\u001b[0m",
      "\u001b[0;31mTypeError\u001b[0m                                 Traceback (most recent call last)",
      "Cell \u001b[0;32mIn[17], line 1\u001b[0m\n\u001b[0;32m----> 1\u001b[0m model \u001b[38;5;241m=\u001b[39m \u001b[43mVITConcatNeuralNetworkModel\u001b[49m\u001b[43m(\u001b[49m\u001b[43mdepth\u001b[49m\u001b[43m \u001b[49m\u001b[38;5;241;43m=\u001b[39;49m\u001b[43m \u001b[49m\u001b[38;5;241;43m8\u001b[39;49m\u001b[43m,\u001b[49m\u001b[43m \u001b[49m\u001b[43mwidth\u001b[49m\u001b[43m \u001b[49m\u001b[38;5;241;43m=\u001b[39;49m\u001b[43m \u001b[49m\u001b[38;5;241;43m16\u001b[39;49m\u001b[43m)\u001b[49m\n\u001b[1;32m      2\u001b[0m optimizer \u001b[38;5;241m=\u001b[39m optim\u001b[38;5;241m.\u001b[39mAdam(model\u001b[38;5;241m.\u001b[39mparameters(), lr \u001b[38;5;241m=\u001b[39m \u001b[38;5;241m0.001\u001b[39m)\n",
      "Cell \u001b[0;32mIn[14], line 26\u001b[0m, in \u001b[0;36mVITConcatNeuralNetworkModel.__init__\u001b[0;34m(self, freeze_vit, depth, width, **kwargs)\u001b[0m\n\u001b[1;32m     24\u001b[0m logistic \u001b[38;5;241m=\u001b[39m nn\u001b[38;5;241m.\u001b[39mLinear(width, \u001b[38;5;241m5\u001b[39m) \u001b[38;5;28;01mif\u001b[39;00m \u001b[38;5;28misinstance\u001b[39m(width, \u001b[38;5;28mint\u001b[39m) \u001b[38;5;28;01melse\u001b[39;00m width[\u001b[38;5;241m-\u001b[39m\u001b[38;5;241m1\u001b[39m]\n\u001b[1;32m     25\u001b[0m nn_modules\u001b[38;5;241m.\u001b[39mappend(logistic)\n\u001b[0;32m---> 26\u001b[0m \u001b[38;5;28mself\u001b[39m\u001b[38;5;241m.\u001b[39msequential \u001b[38;5;241m=\u001b[39m \u001b[43mnn\u001b[49m\u001b[38;5;241;43m.\u001b[39;49m\u001b[43mSequential\u001b[49m\u001b[43m(\u001b[49m\u001b[43mnn_modules\u001b[49m\u001b[43m)\u001b[49m\n\u001b[1;32m     28\u001b[0m \u001b[38;5;28;01mif\u001b[39;00m freeze_vit: \n\u001b[1;32m     29\u001b[0m     \u001b[38;5;28;01mfor\u001b[39;00m param \u001b[38;5;129;01min\u001b[39;00m \u001b[38;5;28mself\u001b[39m\u001b[38;5;241m.\u001b[39mmodel\u001b[38;5;241m.\u001b[39mparameters():\n",
      "File \u001b[0;32m~/Library/Python/3.9/lib/python/site-packages/torch/nn/modules/container.py:106\u001b[0m, in \u001b[0;36mSequential.__init__\u001b[0;34m(self, *args)\u001b[0m\n\u001b[1;32m    104\u001b[0m \u001b[38;5;28;01melse\u001b[39;00m:\n\u001b[1;32m    105\u001b[0m     \u001b[38;5;28;01mfor\u001b[39;00m idx, module \u001b[38;5;129;01min\u001b[39;00m \u001b[38;5;28menumerate\u001b[39m(args):\n\u001b[0;32m--> 106\u001b[0m         \u001b[38;5;28;43mself\u001b[39;49m\u001b[38;5;241;43m.\u001b[39;49m\u001b[43madd_module\u001b[49m\u001b[43m(\u001b[49m\u001b[38;5;28;43mstr\u001b[39;49m\u001b[43m(\u001b[49m\u001b[43midx\u001b[49m\u001b[43m)\u001b[49m\u001b[43m,\u001b[49m\u001b[43m \u001b[49m\u001b[43mmodule\u001b[49m\u001b[43m)\u001b[49m\n",
      "File \u001b[0;32m~/Library/Python/3.9/lib/python/site-packages/torch/nn/modules/module.py:607\u001b[0m, in \u001b[0;36mModule.add_module\u001b[0;34m(self, name, module)\u001b[0m\n\u001b[1;32m    597\u001b[0m \u001b[38;5;250m\u001b[39m\u001b[38;5;124mr\u001b[39m\u001b[38;5;124;03m\"\"\"Add a child module to the current module.\u001b[39;00m\n\u001b[1;32m    598\u001b[0m \n\u001b[1;32m    599\u001b[0m \u001b[38;5;124;03mThe module can be accessed as an attribute using the given name.\u001b[39;00m\n\u001b[0;32m   (...)\u001b[0m\n\u001b[1;32m    604\u001b[0m \u001b[38;5;124;03m    module (Module): child module to be added to the module.\u001b[39;00m\n\u001b[1;32m    605\u001b[0m \u001b[38;5;124;03m\"\"\"\u001b[39;00m\n\u001b[1;32m    606\u001b[0m \u001b[38;5;28;01mif\u001b[39;00m \u001b[38;5;129;01mnot\u001b[39;00m \u001b[38;5;28misinstance\u001b[39m(module, Module) \u001b[38;5;129;01mand\u001b[39;00m module \u001b[38;5;129;01mis\u001b[39;00m \u001b[38;5;129;01mnot\u001b[39;00m \u001b[38;5;28;01mNone\u001b[39;00m:\n\u001b[0;32m--> 607\u001b[0m     \u001b[38;5;28;01mraise\u001b[39;00m \u001b[38;5;167;01mTypeError\u001b[39;00m(\u001b[38;5;124mf\u001b[39m\u001b[38;5;124m\"\u001b[39m\u001b[38;5;132;01m{\u001b[39;00mtorch\u001b[38;5;241m.\u001b[39mtypename(module)\u001b[38;5;132;01m}\u001b[39;00m\u001b[38;5;124m is not a Module subclass\u001b[39m\u001b[38;5;124m\"\u001b[39m)\n\u001b[1;32m    608\u001b[0m \u001b[38;5;28;01melif\u001b[39;00m \u001b[38;5;129;01mnot\u001b[39;00m \u001b[38;5;28misinstance\u001b[39m(name, \u001b[38;5;28mstr\u001b[39m):\n\u001b[1;32m    609\u001b[0m     \u001b[38;5;28;01mraise\u001b[39;00m \u001b[38;5;167;01mTypeError\u001b[39;00m(\u001b[38;5;124mf\u001b[39m\u001b[38;5;124m\"\u001b[39m\u001b[38;5;124mmodule name should be a string. Got \u001b[39m\u001b[38;5;132;01m{\u001b[39;00mtorch\u001b[38;5;241m.\u001b[39mtypename(name)\u001b[38;5;132;01m}\u001b[39;00m\u001b[38;5;124m\"\u001b[39m)\n",
      "\u001b[0;31mTypeError\u001b[0m: list is not a Module subclass"
     ]
    }
   ],
   "source": [
    "model = VITConcatNeuralNetworkModel(depth = 8, width = 16)\n",
    "optimizer = optim.Adam(model.parameters(), lr = 0.001)"
   ]
  },
  {
   "cell_type": "code",
   "execution_count": null,
   "id": "db56ad09",
   "metadata": {},
   "outputs": [
    {
     "name": "stdout",
     "output_type": "stream",
     "text": [
      "Epoch 0/0 train complete in 4008.3923 seconds. train loss: 0.3308 recall: 0.9186. Patience left: 10\n",
      "Epoch 0/0 val complete in 4817.2729 seconds. val loss: 0.3391 recall: 0.9277. Patience left: 10\n",
      "Training complete in 80m 19s\n",
      "Best Metrics at Epoch 1:\n",
      "Val_loss: 0.3391\n",
      "Val_accuracy: 0.9487\n",
      "Val_precision: 0.9240\n",
      "Val_recall: 0.9277\n",
      "Val_f1: 0.9253\n"
     ]
    },
    {
     "data": {
      "text/plain": [
       "VITConcatModel(\n",
       "  (model): ViTModel(\n",
       "    (embeddings): ViTEmbeddings(\n",
       "      (patch_embeddings): ViTPatchEmbeddings(\n",
       "        (projection): Conv2d(3, 768, kernel_size=(16, 16), stride=(16, 16))\n",
       "      )\n",
       "      (dropout): Dropout(p=0.0, inplace=False)\n",
       "    )\n",
       "    (encoder): ViTEncoder(\n",
       "      (layer): ModuleList(\n",
       "        (0-11): 12 x ViTLayer(\n",
       "          (attention): ViTAttention(\n",
       "            (attention): ViTSelfAttention(\n",
       "              (query): Linear(in_features=768, out_features=768, bias=True)\n",
       "              (key): Linear(in_features=768, out_features=768, bias=True)\n",
       "              (value): Linear(in_features=768, out_features=768, bias=True)\n",
       "              (dropout): Dropout(p=0.0, inplace=False)\n",
       "            )\n",
       "            (output): ViTSelfOutput(\n",
       "              (dense): Linear(in_features=768, out_features=768, bias=True)\n",
       "              (dropout): Dropout(p=0.0, inplace=False)\n",
       "            )\n",
       "          )\n",
       "          (intermediate): ViTIntermediate(\n",
       "            (dense): Linear(in_features=768, out_features=3072, bias=True)\n",
       "            (intermediate_act_fn): GELUActivation()\n",
       "          )\n",
       "          (output): ViTOutput(\n",
       "            (dense): Linear(in_features=3072, out_features=768, bias=True)\n",
       "            (dropout): Dropout(p=0.0, inplace=False)\n",
       "          )\n",
       "          (layernorm_before): LayerNorm((768,), eps=1e-12, elementwise_affine=True)\n",
       "          (layernorm_after): LayerNorm((768,), eps=1e-12, elementwise_affine=True)\n",
       "        )\n",
       "      )\n",
       "    )\n",
       "    (layernorm): LayerNorm((768,), eps=1e-12, elementwise_affine=True)\n",
       "    (pooler): ViTPooler(\n",
       "      (dense): Linear(in_features=768, out_features=768, bias=True)\n",
       "      (activation): Tanh()\n",
       "    )\n",
       "  )\n",
       "  (logistic): Linear(in_features=151336, out_features=5, bias=True)\n",
       ")"
      ]
     },
     "execution_count": 35,
     "metadata": {},
     "output_type": "execute_result"
    }
   ],
   "source": [
    "train_model(model, optimizer, output_filename = \"vit_multiclass_concat_nn_depth8_width16.pth\")"
   ]
  },
  {
   "cell_type": "code",
   "execution_count": null,
   "id": "6907343c",
   "metadata": {},
   "outputs": [],
   "source": []
  }
 ],
 "metadata": {
  "kernelspec": {
   "display_name": "Python 3 (ipykernel)",
   "language": "python",
   "name": "python3"
  },
  "language_info": {
   "codemirror_mode": {
    "name": "ipython",
    "version": 3
   },
   "file_extension": ".py",
   "mimetype": "text/x-python",
   "name": "python",
   "nbconvert_exporter": "python",
   "pygments_lexer": "ipython3",
   "version": "3.9.6"
  }
 },
 "nbformat": 4,
 "nbformat_minor": 5
}
