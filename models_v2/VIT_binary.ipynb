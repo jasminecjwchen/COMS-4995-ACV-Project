{
 "cells": [
  {
   "cell_type": "markdown",
   "id": "30a2c911-3409-4ed1-aa61-f0307f6ca5a5",
   "metadata": {},
   "source": [
    "# Binary Model using Pretrained ViT"
   ]
  },
  {
   "cell_type": "code",
   "execution_count": 1,
   "id": "fec8e3d4",
   "metadata": {},
   "outputs": [
    {
     "name": "stderr",
     "output_type": "stream",
     "text": [
      "/Users/jasminecjwchen/Library/Python/3.9/lib/python/site-packages/urllib3/__init__.py:35: NotOpenSSLWarning: urllib3 v2 only supports OpenSSL 1.1.1+, currently the 'ssl' module is compiled with 'LibreSSL 2.8.3'. See: https://github.com/urllib3/urllib3/issues/3020\n",
      "  warnings.warn(\n",
      "/Users/jasminecjwchen/Library/Python/3.9/lib/python/site-packages/tqdm/auto.py:21: TqdmWarning: IProgress not found. Please update jupyter and ipywidgets. See https://ipywidgets.readthedocs.io/en/stable/user_install.html\n",
      "  from .autonotebook import tqdm as notebook_tqdm\n"
     ]
    }
   ],
   "source": [
    "import os\n",
    "import shutil\n",
    "import evaluate\n",
    "import numpy as np\n",
    "import time\n",
    "import copy"
   ]
  },
  {
   "cell_type": "code",
   "execution_count": 2,
   "id": "0e5ed262",
   "metadata": {},
   "outputs": [],
   "source": [
    "from sklearn.model_selection import train_test_split\n",
    "from sklearn.metrics import accuracy_score, precision_score, recall_score, f1_score"
   ]
  },
  {
   "cell_type": "code",
   "execution_count": 3,
   "id": "ceead877-7fc0-4e9e-8d9c-ddb23fc46791",
   "metadata": {},
   "outputs": [],
   "source": [
    "import torch\n",
    "import torch.nn as nn\n",
    "import torch.optim as optim\n",
    "import torch.nn.functional as F\n",
    "from torchvision import datasets, transforms"
   ]
  },
  {
   "cell_type": "code",
   "execution_count": 4,
   "id": "a0602f60",
   "metadata": {},
   "outputs": [],
   "source": [
    "from transformers import ViTConfig, ViTModel, ViTImageProcessor, ViTForImageClassification\n",
    "from transformers import AutoImageProcessor\n",
    "from transformers import TrainingArguments, Trainer"
   ]
  },
  {
   "cell_type": "code",
   "execution_count": 5,
   "id": "544d4875",
   "metadata": {},
   "outputs": [],
   "source": [
    "from model_training_script import train_model"
   ]
  },
  {
   "cell_type": "markdown",
   "id": "df5dc561-f916-4ea2-9723-ebe8f9aa1a04",
   "metadata": {},
   "source": [
    "## Preparing Data Loaders"
   ]
  },
  {
   "cell_type": "code",
   "execution_count": 6,
   "id": "2a6d4c96",
   "metadata": {},
   "outputs": [],
   "source": [
    "output_dir = '/Users/jasminecjwchen/Documents/GitHub/COMS-4995-ACV-Project/split_data'"
   ]
  },
  {
   "cell_type": "code",
   "execution_count": 7,
   "id": "29d06a0e-8b16-4ca4-bc2a-d317e718292f",
   "metadata": {},
   "outputs": [],
   "source": [
    "from torch.utils.data import DataLoader\n",
    "from torchvision.datasets import ImageFolder\n",
    "from torchvision import transforms, datasets\n",
    "\n",
    "# after normalization, must convert to PIL for input into VIT\n",
    "transform = transforms.Compose([\n",
    "    transforms.ToTensor(),\n",
    "    transforms.Normalize(mean=[0.485, 0.456, 0.406], std=[0.229, 0.224, 0.225]),\n",
    "    transforms.ToPILImage()\n",
    "])\n",
    "\n",
    "train_dataset = datasets.ImageFolder(root=os.path.join(output_dir, 'train'), transform=transform)\n",
    "val_dataset = datasets.ImageFolder(root=os.path.join(output_dir, 'val'), transform=transform)\n",
    "test_dataset = datasets.ImageFolder(root=os.path.join(output_dir, 'test'), transform=transform)"
   ]
  },
  {
   "cell_type": "code",
   "execution_count": 8,
   "id": "d6ed8138",
   "metadata": {},
   "outputs": [],
   "source": [
    "def collate_fn(batch):\n",
    "    # Filter failed images first\n",
    "    batch = list(filter(lambda x: x is not None, batch))\n",
    "\n",
    "    images = [sample[0] for sample in batch]\n",
    "    labels = torch.LongTensor([sample[1] for sample in batch])\n",
    "    \n",
    "    return images, labels"
   ]
  },
  {
   "cell_type": "code",
   "execution_count": 9,
   "id": "8970b728",
   "metadata": {},
   "outputs": [],
   "source": [
    "phases = [\"train\", \"val\", \"test\"]"
   ]
  },
  {
   "cell_type": "code",
   "execution_count": 10,
   "id": "1a1100ab",
   "metadata": {},
   "outputs": [],
   "source": [
    "image_datasets = {x: datasets.ImageFolder(root = os.path.join(output_dir, x), transform = transform) for x in phases}\n",
    "dataset_sizes = {x: len(image_datasets[x]) for x in phases}\n",
    "dataloaders = {x: DataLoader(image_datasets[x], batch_size = 32, shuffle = (x == \"train\"), collate_fn=collate_fn) for x in phases}"
   ]
  },
  {
   "cell_type": "code",
   "execution_count": 11,
   "id": "e4cd89cd",
   "metadata": {},
   "outputs": [
    {
     "name": "stdout",
     "output_type": "stream",
     "text": [
      "{'train': 27892, 'val': 5976, 'test': 5978}\n"
     ]
    }
   ],
   "source": [
    "print(dataset_sizes)"
   ]
  },
  {
   "cell_type": "markdown",
   "id": "0db7c302",
   "metadata": {},
   "source": [
    "## VIT"
   ]
  },
  {
   "cell_type": "code",
   "execution_count": 12,
   "id": "c687e918",
   "metadata": {},
   "outputs": [],
   "source": [
    "class VITModel(nn.Module):\n",
    "    # vit config params are passed through kwargs\n",
    "    def __init__(self, freeze_vit = True, **kwargs):\n",
    "        super().__init__()\n",
    "        \n",
    "        self.tokenizer = ViTImageProcessor()\n",
    "        \n",
    "        # if vit config are passed, then create model using configs\n",
    "        if len(kwargs) == 0:\n",
    "            vit_config = ViTConfig(**kwargs)\n",
    "            self.model = ViTModel(vit_config)\n",
    "        else:\n",
    "            # no config passed, then use pretrained with the option to freeze\n",
    "            self.model = ViTModel.from_pretrained(\"google/vit-base-patch16-224-in21k\")\n",
    "            if freeze_vit: \n",
    "                for param in self.model.parameters():\n",
    "                    param.requires_grad = False\n",
    "        self.logistic = nn.Linear(151296, 2)\n",
    "    \n",
    "    def forward(self, image):\n",
    "        encoded_image = self.tokenizer(image, return_tensors = \"pt\")\n",
    "        model_output = self.model(**encoded_image)\n",
    "        flattened_output = model_output.last_hidden_state.flatten(start_dim = 1)\n",
    "        return self.logistic(flattened_output)"
   ]
  },
  {
   "cell_type": "markdown",
   "id": "807d7dd6-4043-40ae-85d5-9743a46f276f",
   "metadata": {},
   "source": [
    "## Training"
   ]
  },
  {
   "cell_type": "code",
   "execution_count": 13,
   "id": "86b94921",
   "metadata": {},
   "outputs": [
    {
     "name": "stdout",
     "output_type": "stream",
     "text": [
      "Using cpu\n"
     ]
    }
   ],
   "source": [
    "device = torch.device(\"cuda\" if torch.cuda.is_available() else \"cpu\")\n",
    "print(f\"Using {device}\")\n",
    "use_gpu = (device != \"cpu\")"
   ]
  },
  {
   "cell_type": "markdown",
   "id": "d87bdd50",
   "metadata": {},
   "source": [
    "## ViT Pretrained"
   ]
  },
  {
   "cell_type": "code",
   "execution_count": 14,
   "id": "e3ba30fd",
   "metadata": {},
   "outputs": [],
   "source": [
    "pretrained_model = VITModel()\n",
    "pretrained_optimizer = optim.Adam(pretrained_model.parameters(), lr = 0.001)"
   ]
  },
  {
   "cell_type": "code",
   "execution_count": 15,
   "id": "1b7985d2",
   "metadata": {},
   "outputs": [],
   "source": [
    "train_model(pretrained_model, pretrained_optimizer, dataloaders, dataset_sizes, num_epochs = 10, patience = 2, output_filename = \"vit_binary_pretrained.pth\")"
   ]
  },
  {
   "cell_type": "markdown",
   "id": "6793f92d",
   "metadata": {},
   "source": [
    "# ViT Custom Parameters"
   ]
  },
  {
   "cell_type": "code",
   "execution_count": null,
   "id": "72e3b0f0",
   "metadata": {},
   "outputs": [],
   "source": [
    "custom_model = VITModel(hidden_size = 10, num_hidden_layers = 2, num_attention_heads = 2, intermediate_size = 100, num_classes = 2)\n",
    "custom_optimizer = optim.Adam(custom_model.parameters(), lr = 0.001)"
   ]
  },
  {
   "cell_type": "code",
   "execution_count": null,
   "id": "db56ad09",
   "metadata": {},
   "outputs": [
    {
     "name": "stdout",
     "output_type": "stream",
     "text": [
      "Epoch 0/0 train complete in 2820.9151 seconds. train loss: 0.3212 acc: 0.9392. Patience left: 10\n",
      "Epoch 0/0 val complete in 3502.6977 seconds. val loss: 0.2149 acc: 0.9635. Patience left: 10\n",
      "Training complete in 58m 24s\n",
      "Best val accuracy: 0.963521\n"
     ]
    },
    {
     "data": {
      "text/plain": [
       "VITModel(\n",
       "  (model): ViTModel(\n",
       "    (embeddings): ViTEmbeddings(\n",
       "      (patch_embeddings): ViTPatchEmbeddings(\n",
       "        (projection): Conv2d(3, 768, kernel_size=(16, 16), stride=(16, 16))\n",
       "      )\n",
       "      (dropout): Dropout(p=0.0, inplace=False)\n",
       "    )\n",
       "    (encoder): ViTEncoder(\n",
       "      (layer): ModuleList(\n",
       "        (0-11): 12 x ViTLayer(\n",
       "          (attention): ViTAttention(\n",
       "            (attention): ViTSelfAttention(\n",
       "              (query): Linear(in_features=768, out_features=768, bias=True)\n",
       "              (key): Linear(in_features=768, out_features=768, bias=True)\n",
       "              (value): Linear(in_features=768, out_features=768, bias=True)\n",
       "              (dropout): Dropout(p=0.0, inplace=False)\n",
       "            )\n",
       "            (output): ViTSelfOutput(\n",
       "              (dense): Linear(in_features=768, out_features=768, bias=True)\n",
       "              (dropout): Dropout(p=0.0, inplace=False)\n",
       "            )\n",
       "          )\n",
       "          (intermediate): ViTIntermediate(\n",
       "            (dense): Linear(in_features=768, out_features=3072, bias=True)\n",
       "            (intermediate_act_fn): GELUActivation()\n",
       "          )\n",
       "          (output): ViTOutput(\n",
       "            (dense): Linear(in_features=3072, out_features=768, bias=True)\n",
       "            (dropout): Dropout(p=0.0, inplace=False)\n",
       "          )\n",
       "          (layernorm_before): LayerNorm((768,), eps=1e-12, elementwise_affine=True)\n",
       "          (layernorm_after): LayerNorm((768,), eps=1e-12, elementwise_affine=True)\n",
       "        )\n",
       "      )\n",
       "    )\n",
       "    (layernorm): LayerNorm((768,), eps=1e-12, elementwise_affine=True)\n",
       "    (pooler): ViTPooler(\n",
       "      (dense): Linear(in_features=768, out_features=768, bias=True)\n",
       "      (activation): Tanh()\n",
       "    )\n",
       "  )\n",
       "  (logistic): Linear(in_features=151296, out_features=2, bias=True)\n",
       ")"
      ]
     },
     "execution_count": 195,
     "metadata": {},
     "output_type": "execute_result"
    }
   ],
   "source": [
    "train_model(custom_model, custom_optimizer, dataloaders, num_epochs = 10, patience = 2, output_filename = \"vit_binary_custom.pth\")"
   ]
  },
  {
   "cell_type": "code",
   "execution_count": null,
   "id": "f76eed66-7e77-4ec1-848d-470f72d5a13f",
   "metadata": {},
   "outputs": [],
   "source": []
  }
 ],
 "metadata": {
  "kernelspec": {
   "display_name": "Python 3 (ipykernel)",
   "language": "python",
   "name": "python3"
  },
  "language_info": {
   "codemirror_mode": {
    "name": "ipython",
    "version": 3
   },
   "file_extension": ".py",
   "mimetype": "text/x-python",
   "name": "python",
   "nbconvert_exporter": "python",
   "pygments_lexer": "ipython3",
   "version": "3.9.6"
  }
 },
 "nbformat": 4,
 "nbformat_minor": 5
}
