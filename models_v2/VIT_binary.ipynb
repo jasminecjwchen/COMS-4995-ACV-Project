{
 "cells": [
  {
   "cell_type": "markdown",
   "id": "30a2c911-3409-4ed1-aa61-f0307f6ca5a5",
   "metadata": {},
   "source": [
    "# Binary Model using Pretrained ViT"
   ]
  },
  {
   "cell_type": "code",
   "execution_count": 62,
   "id": "fec8e3d4",
   "metadata": {},
   "outputs": [],
   "source": [
    "import os\n",
    "import shutil\n",
    "import evaluate\n",
    "import numpy as np\n",
    "import time\n",
    "import copy"
   ]
  },
  {
   "cell_type": "code",
   "execution_count": 3,
   "id": "0e5ed262",
   "metadata": {},
   "outputs": [],
   "source": [
    "from sklearn.model_selection import train_test_split\n",
    "from sklearn.metrics import recall_score"
   ]
  },
  {
   "cell_type": "code",
   "execution_count": 64,
   "id": "ceead877-7fc0-4e9e-8d9c-ddb23fc46791",
   "metadata": {},
   "outputs": [],
   "source": [
    "import torch\n",
    "import torch.nn as nn\n",
    "import torch.optim as optim\n",
    "import torch.nn.functional as F\n",
    "from torchvision import datasets, transforms"
   ]
  },
  {
   "cell_type": "code",
   "execution_count": 5,
   "id": "a0602f60",
   "metadata": {},
   "outputs": [],
   "source": [
    "from transformers import ViTConfig, ViTModel, ViTImageProcessor, ViTForImageClassification\n",
    "from transformers import AutoImageProcessor\n",
    "from transformers import TrainingArguments, Trainer"
   ]
  },
  {
   "cell_type": "markdown",
   "id": "df5dc561-f916-4ea2-9723-ebe8f9aa1a04",
   "metadata": {},
   "source": [
    "## Preparing Data Loaders"
   ]
  },
  {
   "cell_type": "code",
   "execution_count": null,
   "id": "2a6d4c96",
   "metadata": {},
   "outputs": [],
   "source": [
    "output_dir = '/Users/jasminecjwchen/Documents/GitHub/COMS-4995-ACV-Project/split_data'"
   ]
  },
  {
   "cell_type": "code",
   "execution_count": 71,
   "id": "29d06a0e-8b16-4ca4-bc2a-d317e718292f",
   "metadata": {},
   "outputs": [],
   "source": [
    "from torch.utils.data import DataLoader\n",
    "from torchvision.datasets import ImageFolder\n",
    "from torchvision import transforms, datasets\n",
    "\n",
    "# after normalization, must convert to PIL for input into VIT\n",
    "transform = transforms.Compose([\n",
    "    transforms.ToTensor(),\n",
    "    transforms.Normalize(mean=[0.485, 0.456, 0.406], std=[0.229, 0.224, 0.225]),\n",
    "    transforms.ToPILImage()\n",
    "])\n",
    "\n",
    "train_dataset = datasets.ImageFolder(root=os.path.join(output_dir, 'train'), transform=transform)\n",
    "val_dataset = datasets.ImageFolder(root=os.path.join(output_dir, 'val'), transform=transform)\n",
    "test_dataset = datasets.ImageFolder(root=os.path.join(output_dir, 'test'), transform=transform)"
   ]
  },
  {
   "cell_type": "code",
   "execution_count": 72,
   "id": "d6ed8138",
   "metadata": {},
   "outputs": [],
   "source": [
    "def collate_fn(batch):\n",
    "    # Filter failed images first\n",
    "    batch = list(filter(lambda x: x is not None, batch))\n",
    "\n",
    "    images = [sample[0] for sample in batch]\n",
    "    labels = torch.LongTensor([sample[1] for sample in batch])\n",
    "    \n",
    "    return images, labels"
   ]
  },
  {
   "cell_type": "code",
   "execution_count": 74,
   "id": "8970b728",
   "metadata": {},
   "outputs": [],
   "source": [
    "phases = [\"train\", \"val\", \"test\"]"
   ]
  },
  {
   "cell_type": "code",
   "execution_count": 189,
   "id": "1a1100ab",
   "metadata": {},
   "outputs": [],
   "source": [
    "image_datasets = {x: datasets.ImageFolder(root = os.path.join(output_dir, x), transform = transform) for x in phases}\n",
    "dataset_sizes = {x: len(image_datasets[x]) for x in phases}\n",
    "dataloaders = {x: DataLoader(image_datasets[x], batch_size = 32, shuffle = (x == \"train\"), collate_fn=collate_fn) for x in phases}"
   ]
  },
  {
   "cell_type": "code",
   "execution_count": 190,
   "id": "e4cd89cd",
   "metadata": {},
   "outputs": [
    {
     "name": "stdout",
     "output_type": "stream",
     "text": [
      "{'train': 27892, 'val': 5976, 'test': 5978}\n"
     ]
    }
   ],
   "source": [
    "print(dataset_sizes)"
   ]
  },
  {
   "cell_type": "markdown",
   "id": "0db7c302",
   "metadata": {},
   "source": [
    "## VIT"
   ]
  },
  {
   "cell_type": "code",
   "execution_count": 191,
   "id": "c687e918",
   "metadata": {},
   "outputs": [],
   "source": [
    "class VITModel(nn.Module):\n",
    "    # vit config params are passed through kwargs\n",
    "    def __init__(self, freeze_vit = True, **kwargs):\n",
    "        super().__init__()\n",
    "        \n",
    "        self.tokenizer = ViTImageProcessor()\n",
    "        \n",
    "        # if vit config are passed, then create model using configs\n",
    "        if len(kwargs) == 0:\n",
    "            vit_config = ViTConfig(**kwargs)\n",
    "            self.model = ViTModel(vit_config)\n",
    "        else:\n",
    "            # no config passed, then use pretrained with the option to freeze\n",
    "            self.model = ViTModel.from_pretrained(\"google/vit-base-patch16-224-in21k\")\n",
    "            if freeze_vit: \n",
    "                for param in self.model.parameters():\n",
    "                    param.requires_grad = False\n",
    "        self.logistic = nn.Linear(151296, 2)\n",
    "    \n",
    "    def forward(self, image):\n",
    "        encoded_image = self.tokenizer(image, return_tensors = \"pt\")\n",
    "        model_output = self.model(**encoded_image)\n",
    "        flattened_output = model_output.last_hidden_state.flatten(start_dim = 1)\n",
    "        return self.logistic(flattened_output)"
   ]
  },
  {
   "cell_type": "markdown",
   "id": "807d7dd6-4043-40ae-85d5-9743a46f276f",
   "metadata": {},
   "source": [
    "## Training"
   ]
  },
  {
   "cell_type": "code",
   "execution_count": 192,
   "id": "86b94921",
   "metadata": {},
   "outputs": [
    {
     "name": "stdout",
     "output_type": "stream",
     "text": [
      "Using cpu\n"
     ]
    }
   ],
   "source": [
    "device = torch.device(\"cuda\" if torch.cuda.is_available() else \"cpu\")\n",
    "print(f\"Using {device}\")\n",
    "use_gpu = (device != \"cpu\")"
   ]
  },
  {
   "cell_type": "code",
   "execution_count": 193,
   "id": "59d6e78d",
   "metadata": {},
   "outputs": [],
   "source": [
    "def train_model(model, optimizer, scheduler = None, dataloaders = dataloaders, num_epochs = 1, patience = 10, output_filename = \"best_model.pth\"):    \n",
    "    since = time.time()\n",
    "    \n",
    "    best_model_wts = copy.deepcopy(model.state_dict())\n",
    "    best_acc = 0.0\n",
    "    \n",
    "    # use patience for early stopping when validation isnt getting better\n",
    "    patience_left = patience\n",
    "\n",
    "    for epoch in range(num_epochs):\n",
    "        epoch_start_time = time.time()\n",
    "        \n",
    "        for phase in [\"train\", \"val\"]:\n",
    "            if phase == \"train\":\n",
    "                model.train()\n",
    "            else:\n",
    "                model.eval()\n",
    "            \n",
    "            running_loss = 0.0\n",
    "            running_corrects = 0\n",
    "            \n",
    "            for image, labels in dataloaders[phase]:\n",
    "                if use_gpu:\n",
    "                    labels = labels.to(device)\n",
    "                \n",
    "                optimizer.zero_grad()\n",
    "                \n",
    "                # forward\n",
    "                with torch.set_grad_enabled(phase == \"train\"):\n",
    "                    outputs = model(image)\n",
    "                    preds = torch.argmax(outputs, 1)\n",
    "                    loss = F.cross_entropy(outputs, labels)\n",
    "                    \n",
    "                    if phase == \"train\":\n",
    "                        loss.backward()\n",
    "                        optimizer.step()\n",
    "                \n",
    "                running_loss += loss.item() * len(image)\n",
    "                running_corrects += torch.sum(preds == labels.data)\n",
    "                #print(running_loss, running_corrects)\n",
    "            \n",
    "            epoch_loss = running_loss / dataset_sizes[phase]\n",
    "            epoch_acc = running_corrects.double() / dataset_sizes[phase]\n",
    "            \n",
    "            epoch_time = time.time() - epoch_start_time\n",
    "\n",
    "            # deep copy the model if it's best so far\n",
    "            if phase == \"val\" and epoch_acc > best_acc:\n",
    "                best_acc = epoch_acc\n",
    "                best_model_wts = copy.deepcopy(model.state_dict())\n",
    "                torch.save(model.state_dict(), output_filename)\n",
    "                patience_left = patience\n",
    "            elif phase == \"val\":\n",
    "                patience_left -= 1\n",
    "            \n",
    "            print(f'Epoch {epoch}/{num_epochs - 1} {phase} complete in {epoch_time:.4f} seconds. {phase} loss: {epoch_loss:.4f} acc: {epoch_acc:.4f}. Patience left: {patience_left}')\n",
    "            \n",
    "        if patience_left <= 0:\n",
    "            print(\"Ran out of patience. Stopping early\")\n",
    "            break\n",
    "        \n",
    "        if scheduler:\n",
    "            scheduler.step()\n",
    "    \n",
    "    time_elapsed = time.time() - since\n",
    "    print(f'Training complete in {time_elapsed // 60:.0f}m {time_elapsed % 60:.0f}s')\n",
    "    print(f'Best val accuracy: {best_acc:4f}')\n",
    "\n",
    "    # load best model weights\n",
    "    model.load_state_dict(best_model_wts)\n",
    "    return model"
   ]
  },
  {
   "cell_type": "code",
   "execution_count": 194,
   "id": "72e3b0f0",
   "metadata": {},
   "outputs": [],
   "source": [
    "model = VITModel(hidden_size = 10, num_hidden_layers = 2, num_attention_heads = 2, intermediate_size = 100, num_classes = 2)\n",
    "optimizer = optim.Adam(model.parameters(), lr = 0.001)"
   ]
  },
  {
   "cell_type": "code",
   "execution_count": 195,
   "id": "db56ad09",
   "metadata": {},
   "outputs": [
    {
     "name": "stdout",
     "output_type": "stream",
     "text": [
      "Epoch 0/0 train complete in 2820.9151 seconds. train loss: 0.3212 acc: 0.9392. Patience left: 10\n",
      "Epoch 0/0 val complete in 3502.6977 seconds. val loss: 0.2149 acc: 0.9635. Patience left: 10\n",
      "Training complete in 58m 24s\n",
      "Best val accuracy: 0.963521\n"
     ]
    },
    {
     "data": {
      "text/plain": [
       "VITModel(\n",
       "  (model): ViTModel(\n",
       "    (embeddings): ViTEmbeddings(\n",
       "      (patch_embeddings): ViTPatchEmbeddings(\n",
       "        (projection): Conv2d(3, 768, kernel_size=(16, 16), stride=(16, 16))\n",
       "      )\n",
       "      (dropout): Dropout(p=0.0, inplace=False)\n",
       "    )\n",
       "    (encoder): ViTEncoder(\n",
       "      (layer): ModuleList(\n",
       "        (0-11): 12 x ViTLayer(\n",
       "          (attention): ViTAttention(\n",
       "            (attention): ViTSelfAttention(\n",
       "              (query): Linear(in_features=768, out_features=768, bias=True)\n",
       "              (key): Linear(in_features=768, out_features=768, bias=True)\n",
       "              (value): Linear(in_features=768, out_features=768, bias=True)\n",
       "              (dropout): Dropout(p=0.0, inplace=False)\n",
       "            )\n",
       "            (output): ViTSelfOutput(\n",
       "              (dense): Linear(in_features=768, out_features=768, bias=True)\n",
       "              (dropout): Dropout(p=0.0, inplace=False)\n",
       "            )\n",
       "          )\n",
       "          (intermediate): ViTIntermediate(\n",
       "            (dense): Linear(in_features=768, out_features=3072, bias=True)\n",
       "            (intermediate_act_fn): GELUActivation()\n",
       "          )\n",
       "          (output): ViTOutput(\n",
       "            (dense): Linear(in_features=3072, out_features=768, bias=True)\n",
       "            (dropout): Dropout(p=0.0, inplace=False)\n",
       "          )\n",
       "          (layernorm_before): LayerNorm((768,), eps=1e-12, elementwise_affine=True)\n",
       "          (layernorm_after): LayerNorm((768,), eps=1e-12, elementwise_affine=True)\n",
       "        )\n",
       "      )\n",
       "    )\n",
       "    (layernorm): LayerNorm((768,), eps=1e-12, elementwise_affine=True)\n",
       "    (pooler): ViTPooler(\n",
       "      (dense): Linear(in_features=768, out_features=768, bias=True)\n",
       "      (activation): Tanh()\n",
       "    )\n",
       "  )\n",
       "  (logistic): Linear(in_features=151296, out_features=2, bias=True)\n",
       ")"
      ]
     },
     "execution_count": 195,
     "metadata": {},
     "output_type": "execute_result"
    }
   ],
   "source": [
    "train_model(model, optimizer)"
   ]
  },
  {
   "cell_type": "code",
   "execution_count": null,
   "id": "f76eed66-7e77-4ec1-848d-470f72d5a13f",
   "metadata": {},
   "outputs": [],
   "source": []
  }
 ],
 "metadata": {
  "kernelspec": {
   "display_name": "Python 3 (ipykernel)",
   "language": "python",
   "name": "python3"
  },
  "language_info": {
   "codemirror_mode": {
    "name": "ipython",
    "version": 3
   },
   "file_extension": ".py",
   "mimetype": "text/x-python",
   "name": "python",
   "nbconvert_exporter": "python",
   "pygments_lexer": "ipython3",
   "version": "3.9.6"
  }
 },
 "nbformat": 4,
 "nbformat_minor": 5
}
