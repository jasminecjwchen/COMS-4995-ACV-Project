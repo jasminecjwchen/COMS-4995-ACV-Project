{
 "cells": [
  {
   "cell_type": "markdown",
   "id": "30a2c911-3409-4ed1-aa61-f0307f6ca5a5",
   "metadata": {},
   "source": [
    "# Binary Model using Pretrained ViT"
   ]
  },
  {
   "cell_type": "code",
   "execution_count": 34,
   "id": "fec8e3d4",
   "metadata": {},
   "outputs": [],
   "source": [
    "import os\n",
    "import shutil\n",
    "import evaluate\n",
    "import numpy as np\n",
    "import time\n",
    "import copy"
   ]
  },
  {
   "cell_type": "code",
   "execution_count": 35,
   "id": "0e5ed262",
   "metadata": {},
   "outputs": [],
   "source": [
    "from sklearn.model_selection import train_test_split\n",
    "from sklearn.metrics import accuracy_score, precision_score, recall_score, f1_score"
   ]
  },
  {
   "cell_type": "code",
   "execution_count": 36,
   "id": "ceead877-7fc0-4e9e-8d9c-ddb23fc46791",
   "metadata": {},
   "outputs": [],
   "source": [
    "import torch\n",
    "import torch.nn as nn\n",
    "import torch.optim as optim\n",
    "import torch.nn.functional as F\n",
    "from torchvision import datasets, transforms"
   ]
  },
  {
   "cell_type": "code",
   "execution_count": 37,
   "id": "a0602f60",
   "metadata": {},
   "outputs": [],
   "source": [
    "from transformers import ViTConfig, ViTModel, ViTImageProcessor, ViTForImageClassification\n",
    "from transformers import AutoImageProcessor\n",
    "from transformers import TrainingArguments, Trainer"
   ]
  },
  {
   "cell_type": "code",
   "execution_count": 38,
   "id": "544d4875",
   "metadata": {},
   "outputs": [],
   "source": [
    "from model_training_script import train_model"
   ]
  },
  {
   "cell_type": "markdown",
   "id": "df5dc561-f916-4ea2-9723-ebe8f9aa1a04",
   "metadata": {},
   "source": [
    "## Preparing Data Loaders"
   ]
  },
  {
   "cell_type": "code",
   "execution_count": 39,
   "id": "2a6d4c96",
   "metadata": {},
   "outputs": [],
   "source": [
    "output_dir = '/Users/jasminecjwchen/Documents/GitHub/COMS-4995-ACV-Project/split_data'"
   ]
  },
  {
   "cell_type": "code",
   "execution_count": 40,
   "id": "29d06a0e-8b16-4ca4-bc2a-d317e718292f",
   "metadata": {},
   "outputs": [],
   "source": [
    "from torch.utils.data import DataLoader\n",
    "from torchvision.datasets import ImageFolder\n",
    "from torchvision import transforms, datasets\n",
    "\n",
    "# after normalization, must convert to PIL for input into VIT\n",
    "transform = transforms.Compose([\n",
    "    transforms.ToTensor(),\n",
    "    transforms.Normalize(mean=[0.485, 0.456, 0.406], std=[0.229, 0.224, 0.225]),\n",
    "    transforms.ToPILImage()\n",
    "])\n",
    "\n",
    "train_dataset = datasets.ImageFolder(root=os.path.join(output_dir, 'train'), transform=transform)\n",
    "val_dataset = datasets.ImageFolder(root=os.path.join(output_dir, 'val'), transform=transform)\n",
    "test_dataset = datasets.ImageFolder(root=os.path.join(output_dir, 'test'), transform=transform)"
   ]
  },
  {
   "cell_type": "code",
   "execution_count": 41,
   "id": "d6ed8138",
   "metadata": {},
   "outputs": [],
   "source": [
    "def collate_fn(batch):\n",
    "    # Filter failed images first\n",
    "    batch = list(filter(lambda x: x is not None, batch))\n",
    "\n",
    "    images = [sample[0] for sample in batch]\n",
    "    labels = torch.LongTensor([sample[1] for sample in batch])\n",
    "    \n",
    "    return images, labels"
   ]
  },
  {
   "cell_type": "code",
   "execution_count": 42,
   "id": "8970b728",
   "metadata": {},
   "outputs": [],
   "source": [
    "phases = [\"train\", \"val\", \"test\"]"
   ]
  },
  {
   "cell_type": "code",
   "execution_count": 43,
   "id": "1a1100ab",
   "metadata": {},
   "outputs": [],
   "source": [
    "image_datasets = {x: datasets.ImageFolder(root = os.path.join(output_dir, x), transform = transform) for x in phases}\n",
    "dataset_sizes = {x: len(image_datasets[x]) for x in phases}\n",
    "dataloaders = {x: DataLoader(image_datasets[x], batch_size = 32, shuffle = (x == \"train\"), collate_fn=collate_fn) for x in phases}"
   ]
  },
  {
   "cell_type": "code",
   "execution_count": 44,
   "id": "e4cd89cd",
   "metadata": {},
   "outputs": [
    {
     "name": "stdout",
     "output_type": "stream",
     "text": [
      "{'train': 27892, 'val': 5976, 'test': 5978}\n"
     ]
    }
   ],
   "source": [
    "print(dataset_sizes)"
   ]
  },
  {
   "cell_type": "markdown",
   "id": "0db7c302",
   "metadata": {},
   "source": [
    "## VIT"
   ]
  },
  {
   "cell_type": "code",
   "execution_count": 58,
   "id": "c687e918",
   "metadata": {},
   "outputs": [],
   "source": [
    "class VITModel(nn.Module):\n",
    "    # vit config params are passed through kwargs\n",
    "    def __init__(self, freeze_vit = True, **kwargs):\n",
    "        super().__init__()\n",
    "        \n",
    "        self.tokenizer = ViTImageProcessor()\n",
    "        self.use_pretrained = (len(kwargs) == 0)\n",
    "        \n",
    "        # if vit config are passed, then create model using configs\n",
    "        if len(kwargs) != 0:\n",
    "            vit_config = ViTConfig(**kwargs)\n",
    "            self.model = ViTModel(vit_config)\n",
    "            print(\"using custom model\")\n",
    "        else:\n",
    "            # no config passed, then use pretrained with the option to freeze\n",
    "            self.model = ViTModel.from_pretrained(\"google/vit-base-patch16-224-in21k\")\n",
    "            if freeze_vit: \n",
    "                for param in self.model.parameters():\n",
    "                    param.requires_grad = False\n",
    "            print(\"using pretrained model\")\n",
    "        self.linear = nn.Linear(151296, 2)\n",
    "    \n",
    "    def forward(self, image):\n",
    "        encoded_image = self.tokenizer(image, return_tensors = \"pt\")\n",
    "        model_output = self.model(**encoded_image)\n",
    "        flattened_output = model_output.last_hidden_state.flatten(start_dim = 1)\n",
    "        if not self.use_pretrained:\n",
    "            self.linear = nn.Linear(flattened_output.shape[1], 2)\n",
    "        return self.linear(flattened_output)"
   ]
  },
  {
   "cell_type": "markdown",
   "id": "807d7dd6-4043-40ae-85d5-9743a46f276f",
   "metadata": {},
   "source": [
    "## Training"
   ]
  },
  {
   "cell_type": "code",
   "execution_count": 46,
   "id": "86b94921",
   "metadata": {},
   "outputs": [
    {
     "name": "stdout",
     "output_type": "stream",
     "text": [
      "Using cpu\n"
     ]
    }
   ],
   "source": [
    "device = torch.device(\"cuda\" if torch.cuda.is_available() else \"cpu\")\n",
    "print(f\"Using {device}\")\n",
    "use_gpu = (device != \"cpu\")"
   ]
  },
  {
   "cell_type": "markdown",
   "id": "c80c5800",
   "metadata": {},
   "source": []
  },
  {
   "cell_type": "markdown",
   "id": "d87bdd50",
   "metadata": {},
   "source": [
    "## ViT Pretrained"
   ]
  },
  {
   "cell_type": "code",
   "execution_count": 47,
   "id": "e3ba30fd",
   "metadata": {},
   "outputs": [
    {
     "name": "stdout",
     "output_type": "stream",
     "text": [
      "using pretrained model\n"
     ]
    }
   ],
   "source": [
    "pretrained_model = VITModel()\n",
    "pretrained_optimizer = optim.Adam(pretrained_model.parameters(), lr = 0.001)"
   ]
  },
  {
   "cell_type": "code",
   "execution_count": 48,
   "id": "1b7985d2",
   "metadata": {},
   "outputs": [
    {
     "name": "stdout",
     "output_type": "stream",
     "text": [
      "Epoch 0/9 train complete in 2635.3168 seconds. train loss: 0.2963 recall: 0.9406. Patience left: 2\n",
      "Epoch 0/9 val complete in 555.4542 seconds. val loss: 0.2121 recall: 0.9617. Patience left: 2\n",
      "Epoch 1/9 train complete in 2683.0672 seconds. train loss: 0.1666 recall: 0.9728. Patience left: 2\n",
      "Epoch 1/9 val complete in 565.0933 seconds. val loss: 0.4871 recall: 0.9424. Patience left: 1\n",
      "Epoch 2/9 train complete in 2788.3781 seconds. train loss: 0.0787 recall: 0.9865. Patience left: 1\n",
      "Epoch 2/9 val complete in 542.9855 seconds. val loss: 0.2312 recall: 0.9781. Patience left: 2\n",
      "Epoch 3/9 train complete in 2799.5167 seconds. train loss: 0.0735 recall: 0.9885. Patience left: 2\n",
      "Epoch 3/9 val complete in 611.2034 seconds. val loss: 0.2252 recall: 0.9787. Patience left: 2\n",
      "Epoch 4/9 train complete in 4755.8138 seconds. train loss: 0.0668 recall: 0.9907. Patience left: 2\n",
      "Epoch 4/9 val complete in 616.8248 seconds. val loss: 0.3648 recall: 0.9742. Patience left: 1\n",
      "Epoch 5/9 train complete in 2867.6833 seconds. train loss: 0.0860 recall: 0.9893. Patience left: 1\n",
      "Epoch 5/9 val complete in 617.0916 seconds. val loss: 0.8658 recall: 0.9567. Patience left: 0\n",
      "Ran out of patience. Stopping early\n",
      "Training complete in 367m 22s\n",
      "Best Metrics at Epoch 4:\n",
      "Val_loss: 0.2252\n",
      "Val_accuracy: 0.9787\n",
      "Val_precision: 0.9788\n",
      "Val_recall: 0.9787\n",
      "Val_f1: 0.9787\n"
     ]
    },
    {
     "data": {
      "text/plain": [
       "VITModel(\n",
       "  (model): ViTModel(\n",
       "    (embeddings): ViTEmbeddings(\n",
       "      (patch_embeddings): ViTPatchEmbeddings(\n",
       "        (projection): Conv2d(3, 768, kernel_size=(16, 16), stride=(16, 16))\n",
       "      )\n",
       "      (dropout): Dropout(p=0.0, inplace=False)\n",
       "    )\n",
       "    (encoder): ViTEncoder(\n",
       "      (layer): ModuleList(\n",
       "        (0-11): 12 x ViTLayer(\n",
       "          (attention): ViTAttention(\n",
       "            (attention): ViTSelfAttention(\n",
       "              (query): Linear(in_features=768, out_features=768, bias=True)\n",
       "              (key): Linear(in_features=768, out_features=768, bias=True)\n",
       "              (value): Linear(in_features=768, out_features=768, bias=True)\n",
       "              (dropout): Dropout(p=0.0, inplace=False)\n",
       "            )\n",
       "            (output): ViTSelfOutput(\n",
       "              (dense): Linear(in_features=768, out_features=768, bias=True)\n",
       "              (dropout): Dropout(p=0.0, inplace=False)\n",
       "            )\n",
       "          )\n",
       "          (intermediate): ViTIntermediate(\n",
       "            (dense): Linear(in_features=768, out_features=3072, bias=True)\n",
       "            (intermediate_act_fn): GELUActivation()\n",
       "          )\n",
       "          (output): ViTOutput(\n",
       "            (dense): Linear(in_features=3072, out_features=768, bias=True)\n",
       "            (dropout): Dropout(p=0.0, inplace=False)\n",
       "          )\n",
       "          (layernorm_before): LayerNorm((768,), eps=1e-12, elementwise_affine=True)\n",
       "          (layernorm_after): LayerNorm((768,), eps=1e-12, elementwise_affine=True)\n",
       "        )\n",
       "      )\n",
       "    )\n",
       "    (layernorm): LayerNorm((768,), eps=1e-12, elementwise_affine=True)\n",
       "    (pooler): ViTPooler(\n",
       "      (dense): Linear(in_features=768, out_features=768, bias=True)\n",
       "      (activation): Tanh()\n",
       "    )\n",
       "  )\n",
       "  (logistic): Linear(in_features=151296, out_features=2, bias=True)\n",
       ")"
      ]
     },
     "execution_count": 48,
     "metadata": {},
     "output_type": "execute_result"
    }
   ],
   "source": [
    "train_model(pretrained_model, pretrained_optimizer, dataloaders, dataset_sizes, num_epochs = 10, patience = 2, output_filename = \"vit_binary_pretrained.pth\")"
   ]
  },
  {
   "cell_type": "markdown",
   "id": "6793f92d",
   "metadata": {},
   "source": [
    "# ViT Custom Parameters"
   ]
  },
  {
   "cell_type": "code",
   "execution_count": 63,
   "id": "72e3b0f0",
   "metadata": {},
   "outputs": [
    {
     "name": "stdout",
     "output_type": "stream",
     "text": [
      "using custom model\n"
     ]
    }
   ],
   "source": [
    "custom_model = VITModel(hidden_size = 96, num_hidden_layers = 6, num_attention_heads = 6, intermediate_size = 1000, num_classes = 2)\n",
    "custom_optimizer = optim.Adam(custom_model.parameters(), lr = 0.001)"
   ]
  },
  {
   "cell_type": "code",
   "execution_count": 64,
   "id": "db56ad09",
   "metadata": {},
   "outputs": [
    {
     "name": "stdout",
     "output_type": "stream",
     "text": [
      "Epoch 0/9 train complete in 715.4610 seconds. train loss: 0.7615 recall: 0.5033. Patience left: 2\n",
      "Epoch 0/9 val complete in 80.2966 seconds. val loss: 0.7450 recall: 0.4933. Patience left: 2\n",
      "Epoch 1/9 train complete in 689.5075 seconds. train loss: 0.7276 recall: 0.5001. Patience left: 2\n",
      "Epoch 1/9 val complete in 90.0884 seconds. val loss: 0.6929 recall: 0.5308. Patience left: 2\n",
      "Epoch 2/9 train complete in 790.4634 seconds. train loss: 0.7019 recall: 0.4997. Patience left: 2\n",
      "Epoch 2/9 val complete in 96.8933 seconds. val loss: 0.6978 recall: 0.4829. Patience left: 1\n",
      "Epoch 3/9 train complete in 759.6567 seconds. train loss: 0.6964 recall: 0.5016. Patience left: 1\n",
      "Epoch 3/9 val complete in 89.8401 seconds. val loss: 0.6963 recall: 0.4906. Patience left: 0\n",
      "Ran out of patience. Stopping early\n",
      "Training complete in 55m 12s\n",
      "Best Metrics at Epoch 2:\n",
      "Val_loss: 0.6929\n",
      "Val_accuracy: 0.5308\n",
      "Val_precision: 0.5308\n",
      "Val_recall: 0.5308\n",
      "Val_f1: 0.5306\n"
     ]
    },
    {
     "data": {
      "text/plain": [
       "VITModel(\n",
       "  (model): ViTModel(\n",
       "    (embeddings): ViTEmbeddings(\n",
       "      (patch_embeddings): ViTPatchEmbeddings(\n",
       "        (projection): Conv2d(3, 96, kernel_size=(16, 16), stride=(16, 16))\n",
       "      )\n",
       "      (dropout): Dropout(p=0.0, inplace=False)\n",
       "    )\n",
       "    (encoder): ViTEncoder(\n",
       "      (layer): ModuleList(\n",
       "        (0-5): 6 x ViTLayer(\n",
       "          (attention): ViTAttention(\n",
       "            (attention): ViTSelfAttention(\n",
       "              (query): Linear(in_features=96, out_features=96, bias=True)\n",
       "              (key): Linear(in_features=96, out_features=96, bias=True)\n",
       "              (value): Linear(in_features=96, out_features=96, bias=True)\n",
       "              (dropout): Dropout(p=0.0, inplace=False)\n",
       "            )\n",
       "            (output): ViTSelfOutput(\n",
       "              (dense): Linear(in_features=96, out_features=96, bias=True)\n",
       "              (dropout): Dropout(p=0.0, inplace=False)\n",
       "            )\n",
       "          )\n",
       "          (intermediate): ViTIntermediate(\n",
       "            (dense): Linear(in_features=96, out_features=1000, bias=True)\n",
       "            (intermediate_act_fn): GELUActivation()\n",
       "          )\n",
       "          (output): ViTOutput(\n",
       "            (dense): Linear(in_features=1000, out_features=96, bias=True)\n",
       "            (dropout): Dropout(p=0.0, inplace=False)\n",
       "          )\n",
       "          (layernorm_before): LayerNorm((96,), eps=1e-12, elementwise_affine=True)\n",
       "          (layernorm_after): LayerNorm((96,), eps=1e-12, elementwise_affine=True)\n",
       "        )\n",
       "      )\n",
       "    )\n",
       "    (layernorm): LayerNorm((96,), eps=1e-12, elementwise_affine=True)\n",
       "    (pooler): ViTPooler(\n",
       "      (dense): Linear(in_features=96, out_features=96, bias=True)\n",
       "      (activation): Tanh()\n",
       "    )\n",
       "  )\n",
       "  (linear): Linear(in_features=18912, out_features=2, bias=True)\n",
       ")"
      ]
     },
     "execution_count": 64,
     "metadata": {},
     "output_type": "execute_result"
    }
   ],
   "source": [
    "train_model(custom_model, custom_optimizer, dataloaders, dataset_sizes, num_epochs = 10, patience = 2, output_filename = \"vit_binary_custom.pth\")"
   ]
  },
  {
   "cell_type": "code",
   "execution_count": null,
   "id": "f76eed66-7e77-4ec1-848d-470f72d5a13f",
   "metadata": {},
   "outputs": [],
   "source": []
  }
 ],
 "metadata": {
  "kernelspec": {
   "display_name": "Python 3 (ipykernel)",
   "language": "python",
   "name": "python3"
  },
  "language_info": {
   "codemirror_mode": {
    "name": "ipython",
    "version": 3
   },
   "file_extension": ".py",
   "mimetype": "text/x-python",
   "name": "python",
   "nbconvert_exporter": "python",
   "pygments_lexer": "ipython3",
   "version": "3.9.6"
  }
 },
 "nbformat": 4,
 "nbformat_minor": 5
}
