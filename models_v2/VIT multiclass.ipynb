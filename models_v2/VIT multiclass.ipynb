{
 "cells": [
  {
   "cell_type": "markdown",
   "id": "30a2c911-3409-4ed1-aa61-f0307f6ca5a5",
   "metadata": {},
   "source": [
    "# Facial Anti-Spoofing using Deep Neural Network Approaches"
   ]
  },
  {
   "cell_type": "code",
   "execution_count": 102,
   "id": "fec8e3d4",
   "metadata": {},
   "outputs": [],
   "source": [
    "import os\n",
    "import time\n",
    "import copy\n",
    "import json\n",
    "from PIL import Image"
   ]
  },
  {
   "cell_type": "code",
   "execution_count": 103,
   "id": "0e5ed262",
   "metadata": {},
   "outputs": [],
   "source": [
    "from sklearn.metrics import accuracy_score, precision_score, recall_score, f1_score"
   ]
  },
  {
   "cell_type": "code",
   "execution_count": 104,
   "id": "ceead877-7fc0-4e9e-8d9c-ddb23fc46791",
   "metadata": {},
   "outputs": [],
   "source": [
    "import torch\n",
    "import torch.nn as nn\n",
    "import torch.optim as optim\n",
    "import torch.nn.functional as F\n",
    "from torchvision import datasets, transforms\n",
    "from torch.utils.data import Dataset, DataLoader, random_split"
   ]
  },
  {
   "cell_type": "code",
   "execution_count": 105,
   "id": "a0602f60",
   "metadata": {},
   "outputs": [],
   "source": [
    "from transformers import ViTConfig, ViTModel, ViTImageProcessor"
   ]
  },
  {
   "cell_type": "markdown",
   "id": "df5dc561-f916-4ea2-9723-ebe8f9aa1a04",
   "metadata": {},
   "source": [
    "## Preparing Data Loaders"
   ]
  },
  {
   "cell_type": "code",
   "execution_count": 106,
   "id": "480028de",
   "metadata": {},
   "outputs": [],
   "source": [
    "class SpoofDataset(Dataset):\n",
    "    def __init__(self, data_dir, label_file, transform=None):\n",
    "        \"\"\"\n",
    "        Args:\n",
    "            data_dir: Directory with all the images, separated into 'live' and 'spoof' subdirectories.\n",
    "            label_file: Path to JSON file with labels, where label 0 indicates 'live' and others indicate 'spoof'.\n",
    "            transform: Optional transform.\n",
    "        \"\"\"\n",
    "        self.data_dir = data_dir\n",
    "        self.transform = transform\n",
    "        with open(label_file, 'r') as f:\n",
    "            self.labels = json.load(f)\n",
    "\n",
    "        self.img_paths = []\n",
    "        self.img_labels = []\n",
    "        self.features_list = []\n",
    "        for img_name, features in self.labels.items():            \n",
    "            # final item in feature is for live vs spoof\n",
    "            label = features[-1]\n",
    "            subfolder = 'live' if label == 0 else 'spoof'\n",
    "            full_path = os.path.join(self.data_dir, subfolder, img_name)\n",
    "            \n",
    "            if os.path.exists(full_path):\n",
    "                self.img_paths.append(full_path)\n",
    "                self.img_labels.append(label)\n",
    "                self.features_list.append(features[:-1])\n",
    "\n",
    "    def __len__(self):\n",
    "        return len(self.img_paths)\n",
    "\n",
    "    def __getitem__(self, idx):\n",
    "        img_path = self.img_paths[idx]\n",
    "        image = Image.open(img_path).convert('RGB')\n",
    "\n",
    "        if self.transform:\n",
    "            image = self.transform(image)\n",
    "            \n",
    "        label = self.img_labels[idx]\n",
    "        features = self.features_list[idx]\n",
    "\n",
    "        return image, label, features\n"
   ]
  },
  {
   "cell_type": "code",
   "execution_count": 107,
   "id": "a0790a3d",
   "metadata": {},
   "outputs": [],
   "source": [
    "data_transforms = transforms.Compose([\n",
    "    transforms.ToTensor(),\n",
    "    transforms.Normalize(mean=[0.485, 0.456, 0.406], std=[0.229, 0.224, 0.225]),\n",
    "    transforms.ToPILImage()\n",
    "])"
   ]
  },
  {
   "cell_type": "code",
   "execution_count": 108,
   "id": "5c909173",
   "metadata": {},
   "outputs": [],
   "source": [
    "data_dir = \"/Users/jasminecjwchen/Documents/GitHub/COMS-4995-ACV-Project/preprocessed_data\"\n",
    "test_dir = \"/Users/jasminecjwchen/Documents/GitHub/COMS-4995-ACV-Project/unseen_data\"\n",
    "output_dir = '/Users/jasminecjwchen/Documents/GitHub/COMS-4995-ACV-Project/split_data'"
   ]
  },
  {
   "cell_type": "code",
   "execution_count": 109,
   "id": "eae3f067",
   "metadata": {},
   "outputs": [],
   "source": [
    "label_file = \"/Users/jasminecjwchen/Documents/GitHub/COMS-4995-ACV-Project/preprocessing/test_labels v2.json\"\n",
    "dataset = SpoofDataset(data_dir, label_file, data_transforms)"
   ]
  },
  {
   "cell_type": "code",
   "execution_count": 110,
   "id": "33222195",
   "metadata": {},
   "outputs": [],
   "source": [
    "# splitting\n",
    "num_train = int(len(dataset) * 0.8)\n",
    "num_val = len(dataset) - num_train\n",
    "train_dataset, val_dataset = random_split(dataset, [num_train, num_val])"
   ]
  },
  {
   "cell_type": "code",
   "execution_count": 111,
   "id": "ad4fdd3d",
   "metadata": {},
   "outputs": [],
   "source": [
    "def collate_fn(batch):\n",
    "    # Filter failed images first\n",
    "    batch = list(filter(lambda x: x is not None, batch))\n",
    "\n",
    "    images = [sample[0] for sample in batch]\n",
    "    labels = torch.LongTensor([sample[1] for sample in batch])\n",
    "    features = torch.stack([torch.Tensor(sample[2]) for sample in batch])\n",
    "    \n",
    "    return images, labels, features"
   ]
  },
  {
   "cell_type": "code",
   "execution_count": 112,
   "id": "5765e4a1",
   "metadata": {},
   "outputs": [],
   "source": [
    "dataloaders = {\n",
    "    'train': DataLoader(train_dataset, batch_size=32, shuffle=True, pin_memory=True, collate_fn=collate_fn),\n",
    "    'val': DataLoader(val_dataset, batch_size=32, shuffle=False, pin_memory=True, collate_fn=collate_fn)\n",
    "}"
   ]
  },
  {
   "cell_type": "code",
   "execution_count": 113,
   "id": "73e6626c",
   "metadata": {},
   "outputs": [],
   "source": [
    "dataset_sizes = {\n",
    "    \"train\": len(train_dataset),\n",
    "    \"val\": len(val_dataset)\n",
    "}"
   ]
  },
  {
   "cell_type": "code",
   "execution_count": 118,
   "id": "e4cd89cd",
   "metadata": {},
   "outputs": [
    {
     "name": "stdout",
     "output_type": "stream",
     "text": [
      "{'train': 31876, 'val': 7970}\n"
     ]
    }
   ],
   "source": [
    "print(dataset_sizes)"
   ]
  },
  {
   "cell_type": "markdown",
   "id": "0db7c302",
   "metadata": {},
   "source": [
    "## VIT"
   ]
  },
  {
   "cell_type": "code",
   "execution_count": 119,
   "id": "c687e918",
   "metadata": {},
   "outputs": [],
   "source": [
    "class VITModel(nn.Module):\n",
    "    # vit config params are passed through kwargs\n",
    "    def __init__(self, freeze_vit = True):\n",
    "        super().__init__()\n",
    "        \n",
    "        self.tokenizer = ViTImageProcessor()\n",
    "        \n",
    "        self.model = ViTModel.from_pretrained(\"google/vit-base-patch16-224-in21k\")\n",
    "        self.logistic = nn.Linear(151296, 5)\n",
    "        \n",
    "        if freeze_vit: \n",
    "            for param in self.model.parameters():\n",
    "                param.requires_grad = False\n",
    "    \n",
    "    def forward(self, image):\n",
    "        encoded_image = self.tokenizer(image, return_tensors = \"pt\")\n",
    "        model_output = self.model(**encoded_image)\n",
    "        \n",
    "        flattened_output = model_output.last_hidden_state.flatten(start_dim = 1)\n",
    "        return self.logistic(flattened_output)"
   ]
  },
  {
   "cell_type": "markdown",
   "id": "807d7dd6-4043-40ae-85d5-9743a46f276f",
   "metadata": {},
   "source": [
    "## Training"
   ]
  },
  {
   "cell_type": "code",
   "execution_count": 120,
   "id": "86b94921",
   "metadata": {},
   "outputs": [
    {
     "name": "stdout",
     "output_type": "stream",
     "text": [
      "Using cpu\n"
     ]
    }
   ],
   "source": [
    "device = torch.device(\"cuda\" if torch.cuda.is_available() else \"cpu\")\n",
    "print(f\"Using {device}\")\n",
    "use_gpu = (device != \"cpu\")"
   ]
  },
  {
   "cell_type": "code",
   "execution_count": 121,
   "id": "59d6e78d",
   "metadata": {},
   "outputs": [],
   "source": [
    "def train_model(model, optimizer, criterion = None, scheduler = None, dataloaders = dataloaders, num_epochs = 1, patience = 10, output_filename = \"best_model.pth\"):    \n",
    "    since = time.time()\n",
    "    \n",
    "    # Initialize best metrics tracking\n",
    "    best_metrics = {\n",
    "        'epoch': 0,\n",
    "        'val_loss': float('inf'),\n",
    "        'val_accuracy': 0,\n",
    "        'val_precision': 0,\n",
    "        'val_recall': 0,\n",
    "        'val_f1': 0,\n",
    "    }\n",
    "    \n",
    "    best_model_wts = copy.deepcopy(model.state_dict())\n",
    "    \n",
    "    if not criterion:\n",
    "        criterion = nn.CrossEntropyLoss()\n",
    "    \n",
    "    # use patience for early stopping when validation isnt getting better\n",
    "    patience_left = patience\n",
    "\n",
    "    for epoch in range(num_epochs):\n",
    "        epoch_start_time = time.time()\n",
    "        \n",
    "        for phase in [\"train\", \"val\"]:\n",
    "            if phase == \"train\":\n",
    "                model.train()\n",
    "            else:\n",
    "                model.eval()\n",
    "            \n",
    "            running_loss = 0.0\n",
    "            all_preds = []\n",
    "            all_labels = []\n",
    "            \n",
    "            for image, labels, _ in dataloaders[phase]:\n",
    "                if use_gpu:\n",
    "                    labels = labels.to(device)\n",
    "                \n",
    "                optimizer.zero_grad()\n",
    "                \n",
    "                # forward\n",
    "                with torch.set_grad_enabled(phase == \"train\"):\n",
    "                    outputs = model(image)\n",
    "                    preds = torch.argmax(outputs, 1)\n",
    "                    loss = criterion(outputs, labels)\n",
    "                    \n",
    "                    if phase == \"train\":\n",
    "                        loss.backward()\n",
    "                        optimizer.step()\n",
    "                \n",
    "                running_loss += loss.item() * len(image)\n",
    "                #print(running_loss, running_corrects)\n",
    "                all_preds.extend(preds.cpu().numpy())\n",
    "                all_labels.extend(labels.cpu().numpy())\n",
    "            \n",
    "            epoch_loss = running_loss / dataset_sizes[phase]\n",
    "            epoch_accuracy = accuracy_score(all_labels, all_preds)\n",
    "            epoch_precision = precision_score(all_labels, all_preds, zero_division=0, average='macro')\n",
    "            epoch_recall = recall_score(all_labels, all_preds, zero_division=0, average='macro')\n",
    "            epoch_f1 = f1_score(all_labels, all_preds, zero_division=0, average='macro')\n",
    "\n",
    "            epoch_time = time.time() - epoch_start_time\n",
    "\n",
    "            # deep copy the model if it's best so far\n",
    "            if phase == \"val\" and (epoch_loss < best_metrics['val_loss'] or epoch_recall > best_metrics['val_recall']):\n",
    "                best_metrics.update({\n",
    "                    'epoch': epoch + 1,\n",
    "                    'val_loss': epoch_loss,\n",
    "                    'val_accuracy': epoch_accuracy,\n",
    "                    'val_precision': epoch_precision,\n",
    "                    'val_recall': epoch_recall,\n",
    "                    'val_f1': epoch_f1,\n",
    "                })\n",
    "                \n",
    "                best_model_wts = copy.deepcopy(model.state_dict())\n",
    "                torch.save(model.state_dict(), output_filename)\n",
    "                patience_left = patience\n",
    "            elif phase == \"val\":\n",
    "                patience_left -= 1\n",
    "            \n",
    "            print(f'Epoch {epoch}/{num_epochs - 1} {phase} complete in {epoch_time:.4f} seconds. {phase} loss: {epoch_loss:.4f} recall: {epoch_recall:.4f}. Patience left: {patience_left}')\n",
    "            \n",
    "        if patience_left <= 0:\n",
    "            print(\"Ran out of patience. Stopping early\")\n",
    "            break\n",
    "        \n",
    "        if scheduler:\n",
    "            scheduler.step()\n",
    "    \n",
    "    time_elapsed = time.time() - since\n",
    "    print(f'Training complete in {time_elapsed // 60:.0f}m {time_elapsed % 60:.0f}s')\n",
    "    print(f\"Best Metrics at Epoch {best_metrics['epoch']}:\")\n",
    "    for metric, value in best_metrics.items():\n",
    "        if metric != 'epoch':\n",
    "            print(f\"{metric.capitalize()}: {value:.4f}\")\n",
    "\n",
    "    # load best model weights\n",
    "    model.load_state_dict(best_model_wts)\n",
    "    return model"
   ]
  },
  {
   "cell_type": "code",
   "execution_count": 122,
   "id": "72e3b0f0",
   "metadata": {},
   "outputs": [],
   "source": [
    "model = VITModel()\n",
    "optimizer = optim.Adam(model.parameters(), lr = 0.001)"
   ]
  },
  {
   "cell_type": "code",
   "execution_count": 124,
   "id": "db56ad09",
   "metadata": {},
   "outputs": [
    {
     "name": "stdout",
     "output_type": "stream",
     "text": [
      "Epoch 0/9 train complete in 6282.5754 seconds. train loss: 0.2800 recall: 0.9319. Patience left: 2\n",
      "Epoch 0/9 val complete in 7108.8765 seconds. val loss: 0.7141 recall: 0.8774. Patience left: 2\n",
      "Epoch 1/9 train complete in 7868.9059 seconds. train loss: 0.1768 recall: 0.9575. Patience left: 2\n",
      "Epoch 1/9 val complete in 8785.2925 seconds. val loss: 0.5414 recall: 0.9079. Patience left: 2\n",
      "Epoch 2/9 train complete in 14103.3475 seconds. train loss: 0.1485 recall: 0.9663. Patience left: 2\n",
      "Epoch 2/9 val complete in 14898.3742 seconds. val loss: 0.7063 recall: 0.8993. Patience left: 1\n",
      "Epoch 3/9 train complete in 4149.0135 seconds. train loss: 0.1335 recall: 0.9731. Patience left: 1\n",
      "Epoch 3/9 val complete in 4968.5583 seconds. val loss: 0.6531 recall: 0.9141. Patience left: 2\n",
      "Epoch 4/9 train complete in 3397.9292 seconds. train loss: 0.1469 recall: 0.9741. Patience left: 2\n",
      "Epoch 4/9 val complete in 4213.7454 seconds. val loss: 0.9924 recall: 0.8920. Patience left: 1\n",
      "Epoch 5/9 train complete in 3197.4932 seconds. train loss: 0.1540 recall: 0.9742. Patience left: 1\n",
      "Epoch 5/9 val complete in 3977.9982 seconds. val loss: 1.1407 recall: 0.8918. Patience left: 0\n",
      "Ran out of patience. Stopping early\n",
      "Training complete in 732m 38s\n",
      "Best Metrics at Epoch 4:\n",
      "Val_loss: 0.6531\n",
      "Val_accuracy: 0.9455\n",
      "Val_precision: 0.9324\n",
      "Val_recall: 0.9141\n",
      "Val_f1: 0.9208\n"
     ]
    },
    {
     "data": {
      "text/plain": [
       "VITModel(\n",
       "  (model): ViTModel(\n",
       "    (embeddings): ViTEmbeddings(\n",
       "      (patch_embeddings): ViTPatchEmbeddings(\n",
       "        (projection): Conv2d(3, 768, kernel_size=(16, 16), stride=(16, 16))\n",
       "      )\n",
       "      (dropout): Dropout(p=0.0, inplace=False)\n",
       "    )\n",
       "    (encoder): ViTEncoder(\n",
       "      (layer): ModuleList(\n",
       "        (0-11): 12 x ViTLayer(\n",
       "          (attention): ViTAttention(\n",
       "            (attention): ViTSelfAttention(\n",
       "              (query): Linear(in_features=768, out_features=768, bias=True)\n",
       "              (key): Linear(in_features=768, out_features=768, bias=True)\n",
       "              (value): Linear(in_features=768, out_features=768, bias=True)\n",
       "              (dropout): Dropout(p=0.0, inplace=False)\n",
       "            )\n",
       "            (output): ViTSelfOutput(\n",
       "              (dense): Linear(in_features=768, out_features=768, bias=True)\n",
       "              (dropout): Dropout(p=0.0, inplace=False)\n",
       "            )\n",
       "          )\n",
       "          (intermediate): ViTIntermediate(\n",
       "            (dense): Linear(in_features=768, out_features=3072, bias=True)\n",
       "            (intermediate_act_fn): GELUActivation()\n",
       "          )\n",
       "          (output): ViTOutput(\n",
       "            (dense): Linear(in_features=3072, out_features=768, bias=True)\n",
       "            (dropout): Dropout(p=0.0, inplace=False)\n",
       "          )\n",
       "          (layernorm_before): LayerNorm((768,), eps=1e-12, elementwise_affine=True)\n",
       "          (layernorm_after): LayerNorm((768,), eps=1e-12, elementwise_affine=True)\n",
       "        )\n",
       "      )\n",
       "    )\n",
       "    (layernorm): LayerNorm((768,), eps=1e-12, elementwise_affine=True)\n",
       "    (pooler): ViTPooler(\n",
       "      (dense): Linear(in_features=768, out_features=768, bias=True)\n",
       "      (activation): Tanh()\n",
       "    )\n",
       "  )\n",
       "  (logistic): Linear(in_features=151296, out_features=5, bias=True)\n",
       ")"
      ]
     },
     "execution_count": 124,
     "metadata": {},
     "output_type": "execute_result"
    }
   ],
   "source": [
    "train_model(model, optimizer, output_filename = \"vit_multiclass.pth\", num_epochs = 10, patience = 2)"
   ]
  },
  {
   "cell_type": "code",
   "execution_count": null,
   "id": "f76eed66-7e77-4ec1-848d-470f72d5a13f",
   "metadata": {},
   "outputs": [],
   "source": []
  },
  {
   "cell_type": "code",
   "execution_count": null,
   "id": "6907343c",
   "metadata": {},
   "outputs": [],
   "source": []
  }
 ],
 "metadata": {
  "kernelspec": {
   "display_name": "Python 3 (ipykernel)",
   "language": "python",
   "name": "python3"
  },
  "language_info": {
   "codemirror_mode": {
    "name": "ipython",
    "version": 3
   },
   "file_extension": ".py",
   "mimetype": "text/x-python",
   "name": "python",
   "nbconvert_exporter": "python",
   "pygments_lexer": "ipython3",
   "version": "3.9.6"
  }
 },
 "nbformat": 4,
 "nbformat_minor": 5
}
