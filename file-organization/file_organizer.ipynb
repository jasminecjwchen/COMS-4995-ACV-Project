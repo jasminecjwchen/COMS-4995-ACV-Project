{
 "cells": [
  {
   "cell_type": "code",
   "execution_count": 1,
   "id": "64ba4d58",
   "metadata": {},
   "outputs": [],
   "source": [
    "import os\n",
    "import shutil"
   ]
  },
  {
   "cell_type": "code",
   "execution_count": 2,
   "id": "9e85f8e4",
   "metadata": {},
   "outputs": [],
   "source": [
    "# ----- Assuming the following initial directory structure:\n",
    "    \n",
    "# data/\n",
    "# └── test/\n",
    "#     ├── random_folder_1/\n",
    "#     │   ├── random_subfolder_1/\n",
    "#     │   │   ├── spoof/\n",
    "#     │   │   │   └── file1.png, file2.png, ...\n",
    "#     │   │   └── live/\n",
    "#     │   │       └── file3.png, file4.png, ...\n",
    "#     └── random_subfolder_2/\n",
    "\n",
    "# ----- After restructuring:\n",
    "\n",
    "# organized_data/\n",
    "# ├── spoof/\n",
    "# │   ├── file1.png, file2.png ...\n",
    "# └── live/\n",
    "#     └── file3.png, file5.png ... "
   ]
  },
  {
   "cell_type": "code",
   "execution_count": 3,
   "id": "7bfe1c30",
   "metadata": {},
   "outputs": [],
   "source": [
    "base_dir = 'data/test'\n",
    "\n",
    "organized_data_dir = 'organized_data'\n",
    "\n",
    "spoof_target_dir = os.path.join(organized_data_dir, 'spoof')\n",
    "live_target_dir = os.path.join(organized_data_dir, 'live')\n",
    "\n",
    "def ensure_dir(directory):\n",
    "    if not os.path.exists(directory):\n",
    "        os.makedirs(directory)\n",
    "\n",
    "ensure_dir(spoof_target_dir)\n",
    "ensure_dir(live_target_dir)\n",
    "\n",
    "def copy_png_files(source_dir, target_dir):\n",
    "    for root, dirs, files in os.walk(source_dir):\n",
    "        for file in files:\n",
    "            if file.endswith('.png'):\n",
    "                source_file_path = os.path.join(root, file)\n",
    "                target_file_path = os.path.join(target_dir, file)\n",
    "                if not os.path.exists(target_file_path):\n",
    "                    shutil.copy2(source_file_path, target_file_path)"
   ]
  },
  {
   "cell_type": "code",
   "execution_count": 4,
   "id": "0eeedb49",
   "metadata": {},
   "outputs": [],
   "source": [
    "for root, dirs, files in os.walk(base_dir, topdown=True):\n",
    "    for name in dirs:\n",
    "        current_dir = os.path.join(root, name)\n",
    "        for subroot, subdirs, subfiles in os.walk(current_dir):\n",
    "            for subdir in subdirs:\n",
    "                if subdir == 'spoof':\n",
    "                    copy_png_files(os.path.join(subroot, subdir), spoof_target_dir)\n",
    "                elif subdir == 'live':\n",
    "                    copy_png_files(os.path.join(subroot, subdir), live_target_dir)"
   ]
  },
  {
   "cell_type": "code",
   "execution_count": null,
   "id": "078856fc",
   "metadata": {},
   "outputs": [],
   "source": []
  }
 ],
 "metadata": {
  "kernelspec": {
   "display_name": "Python 3 (ipykernel)",
   "language": "python",
   "name": "python3"
  },
  "language_info": {
   "codemirror_mode": {
    "name": "ipython",
    "version": 3
   },
   "file_extension": ".py",
   "mimetype": "text/x-python",
   "name": "python",
   "nbconvert_exporter": "python",
   "pygments_lexer": "ipython3",
   "version": "3.9.6"
  }
 },
 "nbformat": 4,
 "nbformat_minor": 5
}
