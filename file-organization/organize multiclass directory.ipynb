{
 "cells": [
  {
   "cell_type": "code",
   "execution_count": 6,
   "id": "35b60fed",
   "metadata": {},
   "outputs": [
    {
     "name": "stdout",
     "output_type": "stream",
     "text": [
      "Images organized into class directories.\n"
     ]
    }
   ],
   "source": [
    "import json\n",
    "import os\n",
    "import shutil\n",
    "\n",
    "data_dir = 'preprocessed_data'  # Root directory for 'Live' and 'Spoof'\n",
    "test_labels_path = 'preprocessed_data/test_labels.json'  # Path to the JSON file\n",
    "\n",
    "# New directory structure to create\n",
    "new_data_dir = 'multiclass_data'\n",
    "class_names = {0: \"Live\", 1: \"Print\", 2: \"Papercut\", 3: \"Replay\", 4: \"3D\"}\n",
    "\n",
    "# Create directories for each class\n",
    "for class_dir in class_names.values():\n",
    "    os.makedirs(os.path.join(new_data_dir, class_dir), exist_ok=True)\n",
    "\n",
    "# Load labels\n",
    "with open(test_labels_path, 'r') as f:\n",
    "    labels = json.load(f)\n",
    "\n",
    "# Function to move images to their respective class directory\n",
    "def organize_images(data_dir, labels, class_names):\n",
    "    for img_name_long, label in labels.items():\n",
    "        img_name = img_name_long.split(\"/\")[1]\n",
    "        src_path = os.path.join(data_dir, \"Live\" if label == 0 else \"Spoof\", img_name)\n",
    "        dst_path = os.path.join(new_data_dir, class_names[label], img_name)\n",
    "        if os.path.exists(src_path):\n",
    "            shutil.copy(src_path, dst_path) \n",
    "\n",
    "organize_images(data_dir, labels, class_names)\n",
    "print(\"Images organized into class directories.\")\n"
   ]
  },
  {
   "cell_type": "code",
   "execution_count": null,
   "id": "f350a1de",
   "metadata": {},
   "outputs": [],
   "source": []
  }
 ],
 "metadata": {
  "kernelspec": {
   "display_name": "Python 3 (ipykernel)",
   "language": "python",
   "name": "python3"
  },
  "language_info": {
   "codemirror_mode": {
    "name": "ipython",
    "version": 3
   },
   "file_extension": ".py",
   "mimetype": "text/x-python",
   "name": "python",
   "nbconvert_exporter": "python",
   "pygments_lexer": "ipython3",
   "version": "3.11.5"
  }
 },
 "nbformat": 4,
 "nbformat_minor": 5
}
