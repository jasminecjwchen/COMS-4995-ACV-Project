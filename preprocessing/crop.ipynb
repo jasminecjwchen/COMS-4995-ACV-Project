{
 "cells": [
  {
   "cell_type": "code",
   "execution_count": 67,
   "id": "22410377",
   "metadata": {},
   "outputs": [],
   "source": [
    "import os\n",
    "import face_recognition\n",
    "from PIL import Image\n",
    "from tqdm import tqdm\n",
    "import math"
   ]
  },
  {
   "cell_type": "code",
   "execution_count": 3,
   "id": "31b336f9",
   "metadata": {},
   "outputs": [
    {
     "name": "stdout",
     "output_type": "stream",
     "text": [
      "['organized_data/spoof', 'organized_data/live']\n"
     ]
    }
   ],
   "source": [
    "base_dirs = [f\"organized_data/{label}\" for label in [\"spoof\",\"live\"]]\n",
    "print(base_dirs)"
   ]
  },
  {
   "cell_type": "code",
   "execution_count": 30,
   "id": "a8e21838",
   "metadata": {},
   "outputs": [],
   "source": [
    "def ensure_dir(directory):\n",
    "    if not os.path.exists(directory):\n",
    "        os.makedirs(directory)"
   ]
  },
  {
   "cell_type": "code",
   "execution_count": 41,
   "id": "c4c3dc07",
   "metadata": {},
   "outputs": [],
   "source": [
    "base_dirs = [f\"organized_data/{label}\" for label in [\"spoof\",\"live\"]]\n",
    "\n",
    "crop_dir = 'cropped_data'\n",
    "spoof_cropped_dir = os.path.join(crop_dir, 'spoof')\n",
    "live_cropped_dir = os.path.join(crop_dir, 'live')\n",
    "target_dirs = {\n",
    "    \"organized_data/spoof\":spoof_cropped_dir,\n",
    "    \"organized_data/live\":live_cropped_dir,\n",
    "}\n",
    "\n",
    "ensure_dir(spoof_cropped_dir)\n",
    "ensure_dir(live_cropped_dir)"
   ]
  },
  {
   "cell_type": "code",
   "execution_count": 33,
   "id": "82a569ed",
   "metadata": {},
   "outputs": [
    {
     "name": "stdout",
     "output_type": "stream",
     "text": [
      "142 349 409 82\n",
      "142 319 409 52\n",
      "110 339 239 210\n",
      "201 386 387 201\n",
      "284 304 469 118\n",
      "142 409 409 141\n",
      "170 455 491 134\n"
     ]
    }
   ],
   "source": [
    "#show print_count number of example of cropping the face out\n",
    "print_count = 10\n",
    "for base_dir in base_dirs:\n",
    "    for root, dirs, files in os.walk(base_dir, topdown=True):\n",
    "        for file in files:\n",
    "            if print_count>0:\n",
    "                print_count-=1\n",
    "                path = os.path.join(root, file)\n",
    "                image = face_recognition.load_image_file(path)\n",
    "                face_locations = face_recognition.face_locations(image)\n",
    "                \n",
    "                if face_locations:\n",
    "                    top, right, bottom, left = face_locations[0]\n",
    "                    print(top,right,bottom,left)\n",
    "                    face_image = image[top:bottom, left:right]\n",
    "                    pil_image = Image.fromarray(face_image)\n",
    "                    pil_image.show()"
   ]
  },
  {
   "cell_type": "code",
   "execution_count": 38,
   "id": "6aad7124",
   "metadata": {},
   "outputs": [
    {
     "name": "stderr",
     "output_type": "stream",
     "text": [
      "100%|████████████████████████████████████| 47247/47247 [05:13<00:00, 150.84it/s]\n",
      "100%|████████████████████████████████████| 19923/19923 [03:06<00:00, 106.94it/s]"
     ]
    },
    {
     "name": "stdout",
     "output_type": "stream",
     "text": [
      "85\n",
      "85\n"
     ]
    },
    {
     "name": "stderr",
     "output_type": "stream",
     "text": [
      "\n"
     ]
    }
   ],
   "source": [
    "#find the min dimensions out of all pictures\n",
    "min_dim1 = -1\n",
    "min_dim2 = -1\n",
    "for base_dir in base_dirs:\n",
    "    for root, dirs, files in os.walk(base_dir, topdown=True):\n",
    "        for file in tqdm(files):\n",
    "            path = os.path.join(root, file)\n",
    "            image = face_recognition.load_image_file(path)\n",
    "            dim1 = image.shape[0]\n",
    "            dim2 = image.shape[1]\n",
    "            \n",
    "            if min_dim1<0 or dim1<min_dim1:\n",
    "                min_dim1 = dim1\n",
    "            if min_dim2<0 or dim2<min_dim2:\n",
    "                min_dim2 = dim2\n",
    "print(min_dim1)\n",
    "print(min_dim2)"
   ]
  },
  {
   "cell_type": "code",
   "execution_count": 59,
   "id": "f4ee8376",
   "metadata": {},
   "outputs": [],
   "source": [
    "def crop_image(min_dim1,min_dim2,image):\n",
    "    #print(image.shape)\n",
    "    dim1,dim2 = image.size\n",
    "    offset1 = (dim1-min_dim1)//2\n",
    "    offset2 = (dim2-min_dim2)//2\n",
    "    cropped_image = image.crop((offset1,offset2,offset1+min_dim1,offset2+min_dim2))\n",
    "    #cropped_image = image[offset1:offset1+min_dim,offset2:offset2+min_dim]\n",
    "    return cropped_image"
   ]
  },
  {
   "cell_type": "code",
   "execution_count": 81,
   "id": "2e72ff19",
   "metadata": {},
   "outputs": [],
   "source": [
    "def crop2_image(min_dim1,min_dim2,image):\n",
    "    dim1,dim2 = image.size\n",
    "    ratio = max(min_dim1/dim1,min_dim2/dim2)\n",
    "    new_dims = (math.ceil(dim1*ratio),math.ceil(dim2*ratio))\n",
    "    image.thumbnail(new_dims)\n",
    "    cropped_image = image.crop((0,0,min_dim1,min_dim2))\n",
    "    \n",
    "    return cropped_image"
   ]
  },
  {
   "cell_type": "code",
   "execution_count": 82,
   "id": "55925b13",
   "metadata": {},
   "outputs": [],
   "source": [
    "def crop_files(source_dir, target_dir):\n",
    "    for root, dirs, files in os.walk(source_dir):\n",
    "        for file in tqdm(files):\n",
    "            path = os.path.join(root, file)\n",
    "            target_path = os.path.join(target_dir, file)\n",
    "            if not os.path.exists(target_path):\n",
    "                image = Image.open(path)\n",
    "                crop2_image(min_dim1,min_dim1,image)\n",
    "                image.save(target_path)"
   ]
  },
  {
   "cell_type": "code",
   "execution_count": 83,
   "id": "829d86ee",
   "metadata": {},
   "outputs": [
    {
     "name": "stderr",
     "output_type": "stream",
     "text": [
      "100%|█████████████████████████████████████| 19923/19923 [03:38<00:00, 90.98it/s]\n"
     ]
    }
   ],
   "source": [
    "min_dim = min(min_dim1,min_dim2)\n",
    "for base_dir in target_dirs:\n",
    "    target_dir = target_dirs[base_dir]\n",
    "    if base_dir==\"organized_data/live\":\n",
    "        crop_files(base_dir,target_dir)"
   ]
  },
  {
   "cell_type": "code",
   "execution_count": 84,
   "id": "2b13b79c",
   "metadata": {},
   "outputs": [
    {
     "name": "stderr",
     "output_type": "stream",
     "text": [
      "100%|█████████████████████████████████████| 47247/47247 [10:25<00:00, 75.57it/s]\n"
     ]
    }
   ],
   "source": [
    "min_dim = min(min_dim1,min_dim2)\n",
    "for base_dir in target_dirs:\n",
    "    target_dir = target_dirs[base_dir]\n",
    "    if base_dir==\"organized_data/spoof\":\n",
    "        crop_files(base_dir,target_dir)"
   ]
  },
  {
   "cell_type": "code",
   "execution_count": null,
   "id": "dd915664",
   "metadata": {},
   "outputs": [],
   "source": []
  }
 ],
 "metadata": {
  "kernelspec": {
   "display_name": "Python 3 (ipykernel)",
   "language": "python",
   "name": "python3"
  },
  "language_info": {
   "codemirror_mode": {
    "name": "ipython",
    "version": 3
   },
   "file_extension": ".py",
   "mimetype": "text/x-python",
   "name": "python",
   "nbconvert_exporter": "python",
   "pygments_lexer": "ipython3",
   "version": "3.11.5"
  }
 },
 "nbformat": 4,
 "nbformat_minor": 5
}
